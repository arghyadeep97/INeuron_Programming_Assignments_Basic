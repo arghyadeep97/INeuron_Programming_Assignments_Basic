{
 "cells": [
  {
   "cell_type": "markdown",
   "id": "cea3d02c",
   "metadata": {},
   "source": [
    "# Python Programming Assignment 17"
   ]
  },
  {
   "cell_type": "markdown",
   "id": "57caf54a",
   "metadata": {},
   "source": [
    "### Question 1\n",
    "#### Create a function that takes three arguments a, b, c and returns the sum of the numbers that are evenly divided by c from the range a, b inclusive.\n",
    "### Examples\n",
    "#### evenly_divisible(1, 10, 20) ➞ 0\n",
    "#### No number between 1 and 10 can be evenly divided by 20.\n",
    "#### evenly_divisible(1, 10, 2) ➞ 30\n",
    "#### 2 + 4 + 6 + 8 + 10 = 30\n",
    "#### evenly_divisible(1, 10, 3) ➞ 18\n",
    "#### 3 + 6 + 9 = 18"
   ]
  },
  {
   "cell_type": "code",
   "execution_count": 2,
   "id": "0da3b242",
   "metadata": {},
   "outputs": [],
   "source": [
    "def evenly_divisible(a,b,c):\n",
    "    return sum([x for x in range(a,b+1) if x%c == 0])"
   ]
  },
  {
   "cell_type": "code",
   "execution_count": 6,
   "id": "cb5c805e",
   "metadata": {},
   "outputs": [
    {
     "name": "stdout",
     "output_type": "stream",
     "text": [
      "Enter a,b,c Separeted by Space:\n",
      "1 10 3\n",
      "Final Sum is: 18\n"
     ]
    }
   ],
   "source": [
    "a,b,c = tuple(map(int,input(\"Enter a,b,c Separeted by Space:\\n\").split()))\n",
    "print(\"Final Sum is:\",evenly_divisible(a,b,c))"
   ]
  },
  {
   "cell_type": "markdown",
   "id": "ace177de",
   "metadata": {},
   "source": [
    "### Question 2\n",
    "#### Create a function that returns True if a given inequality expression is correct and False otherwise.\n",
    "### Examples\n",
    "#### correct_signs(\"3 < 7 < 11\") ➞ True\n",
    "#### correct_signs(\"13 > 44 > 33 > 1\") ➞ False\n",
    "#### correct_signs(\"1 < 2 < 6 < 9 > 3\") ➞ True"
   ]
  },
  {
   "cell_type": "code",
   "execution_count": 21,
   "id": "17541bbd",
   "metadata": {},
   "outputs": [],
   "source": [
    "def correct_signs(exp_string):\n",
    "    exp_list = exp_string.split()\n",
    "    for i in range(len(exp_list)//2):\n",
    "        first_var,ops,second_var = int(exp_list[0]),exp_list[1],int(exp_list[2])\n",
    "        flag = 0\n",
    "        if ops == \">\":\n",
    "            if first_var > second_var:\n",
    "                flag = 1\n",
    "        elif ops == \"<\":\n",
    "            if first_var < second_var:\n",
    "                flag = 1\n",
    "        elif ops == \"==\":\n",
    "            if first_var == second_var:\n",
    "                flag = 1\n",
    "        elif ops == \"!=\":\n",
    "            if first_var != second_var:\n",
    "                flag = 1\n",
    "        elif ops == \">=\":\n",
    "            if first_var >= second_var:\n",
    "                flag = 1\n",
    "        elif ops == \"<=\":\n",
    "            if first_var <= second_var:\n",
    "                flag = 1\n",
    "        if flag == 0:\n",
    "            return False\n",
    "        else:\n",
    "            exp_list = exp_list[2:]\n",
    "    return True"
   ]
  },
  {
   "cell_type": "code",
   "execution_count": 22,
   "id": "4402ccd6",
   "metadata": {},
   "outputs": [
    {
     "name": "stdout",
     "output_type": "stream",
     "text": [
      "Enter the Expression: 1 < 2 < 6 < 9 > 3\n",
      "After Evaluation: True\n"
     ]
    }
   ],
   "source": [
    "str_exp = input(\"Enter the Expression: \")\n",
    "print(\"After Evaluation:\",correct_signs(str_exp))"
   ]
  },
  {
   "cell_type": "markdown",
   "id": "46c775e3",
   "metadata": {},
   "source": [
    "### Question 3\n",
    "#### Create a function that replaces all the vowels in a string with a specified character.\n",
    "### Examples\n",
    "#### replace_vowels(\"the aardvark\", \"#\") ➞ \"th# ##rdv#rk\"\n",
    "#### replace_vowels(\"minnie mouse\", \"?\") ➞ \"m?nn?? m??s?\"\n",
    "#### replace_vowels(\"shakespeare\", \"*\") ➞ \" sh*k*sp**r* \""
   ]
  },
  {
   "cell_type": "code",
   "execution_count": 23,
   "id": "6817837a",
   "metadata": {},
   "outputs": [],
   "source": [
    "def replace_vowels(list1,char):\n",
    "    return ''.join([char if x.lower() in ['a','e','i','o','u'] else x for x in list(list1)])"
   ]
  },
  {
   "cell_type": "code",
   "execution_count": 25,
   "id": "90d78c09",
   "metadata": {},
   "outputs": [
    {
     "name": "stdout",
     "output_type": "stream",
     "text": [
      "Enter the String: minnie mouse\n",
      "Enter the Replacing Character: ?\n",
      "After Replacement: m?nn?? m??s?\n"
     ]
    }
   ],
   "source": [
    "inp_str = input(\"Enter the String: \")\n",
    "rep_char = input(\"Enter the Replacing Character: \")\n",
    "print(\"After Replacement:\",replace_vowels(inp_str,rep_char))"
   ]
  },
  {
   "cell_type": "markdown",
   "id": "2e7542aa",
   "metadata": {},
   "source": [
    "### Question 4 \n",
    "#### Write a function that calculates the factorial of a number recursively.\n",
    "### Examples\n",
    "#### factorial(5) ➞ 120\n",
    "#### factorial(3) ➞ 6\n",
    "#### factorial(1) ➞ 1\n",
    "#### factorial(0) ➞ 1"
   ]
  },
  {
   "cell_type": "code",
   "execution_count": 29,
   "id": "efcc9fe7",
   "metadata": {},
   "outputs": [],
   "source": [
    "def factorial(n):\n",
    "    if n == 1 or n == 0:\n",
    "        return 1\n",
    "    else:\n",
    "        return n * factorial(n-1)"
   ]
  },
  {
   "cell_type": "code",
   "execution_count": 30,
   "id": "212f44d6",
   "metadata": {},
   "outputs": [
    {
     "name": "stdout",
     "output_type": "stream",
     "text": [
      "Enter a Number: 5\n",
      "Factorial is: 120\n"
     ]
    }
   ],
   "source": [
    "num = int(input(\"Enter a Number: \"))\n",
    "print(\"Factorial is:\",factorial(num))"
   ]
  },
  {
   "cell_type": "markdown",
   "id": "83a2b0c5",
   "metadata": {},
   "source": [
    "### Question 5\n",
    "#### Hamming distance is the number of characters that differ between two strings.\n",
    "#### To illustrate:\n",
    "#### String1: \"abcbba\"\n",
    "#### String2: \"abcbda\"\n",
    "\n",
    "#### Hamming Distance: 1 - \"b\" vs. \"d\" is the only difference.\n",
    "#### Create a function that computes the hamming distance between two strings.\n",
    "### Examples\n",
    "#### hamming_distance(\"abcde\", \"bcdef\") ➞ 5\n",
    "#### hamming_distance(\"abcde\", \"abcde\") ➞ 0\n",
    "#### hamming_distance(\"strong\", \"strung\") ➞ 1"
   ]
  },
  {
   "cell_type": "code",
   "execution_count": 35,
   "id": "e5ea9b22",
   "metadata": {},
   "outputs": [],
   "source": [
    "def hamming_distance(str1,str2):\n",
    "    cnt = 0\n",
    "    for i in range(len(str1)):\n",
    "        if str1[i] != str2[i]:\n",
    "            cnt += 1\n",
    "    return cnt"
   ]
  },
  {
   "cell_type": "code",
   "execution_count": 38,
   "id": "7094c7b8",
   "metadata": {},
   "outputs": [
    {
     "name": "stdout",
     "output_type": "stream",
     "text": [
      "Enter the First String: strong\n",
      "Enter the Second String: strung\n",
      "Hamming Distance: 1\n"
     ]
    }
   ],
   "source": [
    "str1 = input(\"Enter the First String: \")\n",
    "str2 = input(\"Enter the Second String: \")\n",
    "print(\"Hamming Distance:\",hamming_distance(str1,str2))"
   ]
  }
 ],
 "metadata": {
  "kernelspec": {
   "display_name": "Python 3 (ipykernel)",
   "language": "python",
   "name": "python3"
  },
  "language_info": {
   "codemirror_mode": {
    "name": "ipython",
    "version": 3
   },
   "file_extension": ".py",
   "mimetype": "text/x-python",
   "name": "python",
   "nbconvert_exporter": "python",
   "pygments_lexer": "ipython3",
   "version": "3.9.7"
  }
 },
 "nbformat": 4,
 "nbformat_minor": 5
}
