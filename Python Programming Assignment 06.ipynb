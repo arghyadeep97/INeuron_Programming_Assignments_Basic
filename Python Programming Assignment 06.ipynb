{
 "cells": [
  {
   "cell_type": "markdown",
   "id": "03d7b446",
   "metadata": {},
   "source": [
    "# Python Programming Assignment 6"
   ]
  },
  {
   "cell_type": "markdown",
   "id": "80d49ba9",
   "metadata": {},
   "source": [
    "### 1. Write a Python Program to Display Fibonacci Sequence Using Recursion?"
   ]
  },
  {
   "cell_type": "code",
   "execution_count": 6,
   "id": "26c22d81",
   "metadata": {},
   "outputs": [],
   "source": [
    "def fibonacci(n,list1=[0,1]):\n",
    "    list1.append(list1[-1]+list1[-2])\n",
    "    n-=1\n",
    "    if n==0:\n",
    "        return list1\n",
    "    return fibonacci(n,list1= list1)"
   ]
  },
  {
   "cell_type": "code",
   "execution_count": 7,
   "id": "979321d9",
   "metadata": {},
   "outputs": [
    {
     "name": "stdout",
     "output_type": "stream",
     "text": [
      "Enter the Number of Element in Fibonacci Series: 10\n",
      "[0, 1, 1, 2, 3, 5, 8, 13, 21, 34, 55, 89]\n"
     ]
    }
   ],
   "source": [
    "num = int(input(\"Enter the Number of Element in Fibonacci Series: \"))\n",
    "print(fibonacci(num))"
   ]
  },
  {
   "cell_type": "markdown",
   "id": "096b475d",
   "metadata": {},
   "source": [
    "### 2. Write a Python Program to Find Factorial of Number Using Recursion?"
   ]
  },
  {
   "cell_type": "code",
   "execution_count": 12,
   "id": "d5e3d146",
   "metadata": {},
   "outputs": [],
   "source": [
    "def factorial(n):\n",
    "    if n == 0:\n",
    "        return 1\n",
    "    return n* factorial(n-1)"
   ]
  },
  {
   "cell_type": "code",
   "execution_count": 13,
   "id": "79c1d443",
   "metadata": {},
   "outputs": [
    {
     "name": "stdout",
     "output_type": "stream",
     "text": [
      "Enter a Number: 5\n",
      "Factorial is: 120\n"
     ]
    }
   ],
   "source": [
    "num = int(input(\"Enter a Number: \"))\n",
    "print(\"Factorial is:\",factorial(num))"
   ]
  },
  {
   "cell_type": "markdown",
   "id": "ab3da9a3",
   "metadata": {},
   "source": [
    "### 3. Write a Python Program to calculate your Body Mass Index?"
   ]
  },
  {
   "cell_type": "code",
   "execution_count": 9,
   "id": "4f643183",
   "metadata": {},
   "outputs": [
    {
     "name": "stdout",
     "output_type": "stream",
     "text": [
      "Enter your Height(m) and Weight(kg) separeted by space: 1.7 80\n",
      "Your BMI is: 27.68166089965398 kg/m^2\n"
     ]
    }
   ],
   "source": [
    "inp_height,inp_weight = tuple(input(\"Enter your Height(m) and Weight(kg) separeted by space: \").split())\n",
    "inp_height,inp_weight = float(inp_height),float(inp_weight)\n",
    "print(\"Your BMI is:\",str(inp_weight/(inp_height**2))+\" kg/m^2\")"
   ]
  },
  {
   "cell_type": "markdown",
   "id": "57bfa6a2",
   "metadata": {},
   "source": [
    "### 4. Write a Python Program to calculate the natural logarithm of any number?"
   ]
  },
  {
   "cell_type": "code",
   "execution_count": 11,
   "id": "2fa3d917",
   "metadata": {},
   "outputs": [
    {
     "name": "stdout",
     "output_type": "stream",
     "text": [
      "Enter a number: 2\n",
      "Natural Logarithm of Given Number is 0.6931471805599453\n"
     ]
    }
   ],
   "source": [
    "#To implement natural logarithm we need to import log function from math module\n",
    "from math import log\n",
    "\n",
    "num = int(input(\"Enter a number: \"))\n",
    "print(\"Natural Logarithm of Given Number is\",log(num))"
   ]
  },
  {
   "cell_type": "markdown",
   "id": "a8cb22a3",
   "metadata": {},
   "source": [
    "### 5. Write a Python Program for cube sum of first n natural numbers?"
   ]
  },
  {
   "cell_type": "code",
   "execution_count": 6,
   "id": "85709ec8",
   "metadata": {},
   "outputs": [
    {
     "name": "stdout",
     "output_type": "stream",
     "text": [
      "Enter the maximum range of the series: 10\n",
      "CubeSum of first 10 natural numbers is 3025\n"
     ]
    }
   ],
   "source": [
    "n = int(input(\"Enter the maximum range of the series: \"))\n",
    "print(\"CubeSum of first {} natural numbers is {}\".format(n,sum([x**3 for x in range(1,n+1)])))"
   ]
  }
 ],
 "metadata": {
  "kernelspec": {
   "display_name": "Python 3 (ipykernel)",
   "language": "python",
   "name": "python3"
  },
  "language_info": {
   "codemirror_mode": {
    "name": "ipython",
    "version": 3
   },
   "file_extension": ".py",
   "mimetype": "text/x-python",
   "name": "python",
   "nbconvert_exporter": "python",
   "pygments_lexer": "ipython3",
   "version": "3.9.7"
  }
 },
 "nbformat": 4,
 "nbformat_minor": 5
}
