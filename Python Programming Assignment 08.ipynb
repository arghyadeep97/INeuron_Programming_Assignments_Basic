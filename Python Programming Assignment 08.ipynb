{
 "cells": [
  {
   "cell_type": "markdown",
   "id": "7f8a372b",
   "metadata": {},
   "source": [
    "# Python Programming Assignment 8"
   ]
  },
  {
   "cell_type": "markdown",
   "id": "ae3121b7",
   "metadata": {},
   "source": [
    "### 1. Write a Python Program to Add Two Matrices?"
   ]
  },
  {
   "cell_type": "code",
   "execution_count": 2,
   "id": "0377672f",
   "metadata": {},
   "outputs": [],
   "source": [
    "def mat_print(m):\n",
    "    for i in m:\n",
    "        print(*i)"
   ]
  },
  {
   "cell_type": "code",
   "execution_count": 20,
   "id": "b8907298",
   "metadata": {},
   "outputs": [
    {
     "name": "stdout",
     "output_type": "stream",
     "text": [
      "Enter Row & Column of First and Secon Matrix Sequantially Separeted by Space:\n",
      "2 3 2 3\n",
      "Enter Element Row Wise Separeted by Space For First Matrix\n",
      "1 2 3\n",
      "Enter Element Row Wise Separeted by Space For Second Matrix\n",
      "4 5 6\n",
      "Enter Element Row Wise Separeted by Space For First Matrix\n",
      "7 8 9\n",
      "Enter Element Row Wise Separeted by Space For Second Matrix\n",
      "10 11 12\n",
      "\n",
      "First Matrix:\n",
      "1 2 3\n",
      "7 8 9\n",
      "\n",
      "Second Matrix:\n",
      "4 5 6\n",
      "10 11 12\n",
      "\n",
      "Added Matrix:\n",
      "5 7 9\n",
      "17 19 21\n"
     ]
    }
   ],
   "source": [
    "r1,c1,r2,c2 = tuple(map(int,input(\"Enter Row & Column of First and Secon Matrix Sequantially Separeted by Space:\\n\").split()))\n",
    "m1,m2,added_m = [],[],[]\n",
    "if r1 == r2 and c1 == c2:\n",
    "    #Input Matrices:\n",
    "    for i in range(r1):\n",
    "        m1.append(list(map(int,input(\"Enter Element Row Wise Separeted by Space For First Matrix\\n\").split())))\n",
    "        m2.append(list(map(int,input(\"Enter Element Row Wise Separeted by Space For Second Matrix\\n\").split())))\n",
    "    print(\"\\nFirst Matrix:\")\n",
    "    mat_print(m1)\n",
    "    print(\"\\nSecond Matrix:\")\n",
    "    mat_print(m2)\n",
    "    \n",
    "    #Perform Addition\n",
    "    for i,j in zip(m1,m2):\n",
    "        x = list(zip(i,j))\n",
    "        added_m.append(list(map(sum,x)))\n",
    "    print(\"\\nAdded Matrix:\")\n",
    "    mat_print(added_m)\n",
    "else:\n",
    "    print(\"Enter Matrix in Proper Order\")"
   ]
  },
  {
   "cell_type": "markdown",
   "id": "8701ee72",
   "metadata": {},
   "source": [
    "### 2. Write a Python Program to Multiply Two Matrices?"
   ]
  },
  {
   "cell_type": "code",
   "execution_count": 4,
   "id": "4a062fd1",
   "metadata": {},
   "outputs": [
    {
     "name": "stdout",
     "output_type": "stream",
     "text": [
      "Enter Row & Column of First and Secon Matrix Sequantially Separeted by Space:\n",
      "3 4 4 6\n",
      "Enter Element Row Wise Separeted by Space For First Matrix\n",
      "4 5 1 7\n",
      "Enter Element Row Wise Separeted by Space For First Matrix\n",
      "8 6 3 1\n",
      "Enter Element Row Wise Separeted by Space For First Matrix\n",
      "2 9 1 4\n",
      "Enter Element Row Wise Separeted by Space For Second Matrix\n",
      "1 1 4 2 8 5\n",
      "Enter Element Row Wise Separeted by Space For Second Matrix\n",
      "2 1 1 2 3 4\n",
      "Enter Element Row Wise Separeted by Space For Second Matrix\n",
      "5 2 2 3 3 7\n",
      "Enter Element Row Wise Separeted by Space For Second Matrix\n",
      "3 1 2 1 4 1\n",
      "\n",
      "First Matrix:\n",
      "4 5 1 7\n",
      "8 6 3 1\n",
      "2 9 1 4\n",
      "\n",
      "Second Matrix:\n",
      "1 1 4 2 8 5\n",
      "2 1 1 2 3 4\n",
      "5 2 2 3 3 7\n",
      "3 1 2 1 4 1\n",
      "\n",
      "Multiplicated Matrix:\n",
      "40 18 37 28 78 54\n",
      "38 21 46 38 95 86\n",
      "37 17 27 29 62 57\n"
     ]
    }
   ],
   "source": [
    "r1,c1,r2,c2 = tuple(map(int,input(\"Enter Row & Column of First and Secon Matrix Sequantially Separeted by Space:\\n\").split()))\n",
    "m1,m2 = [],[]\n",
    "if c1 == r2:\n",
    "    #Input Matrices:\n",
    "    for i in range(r1):\n",
    "        m1.append(list(map(int,input(\"Enter Element Row Wise Separeted by Space For First Matrix\\n\").split())))\n",
    "    for i in range(r2):\n",
    "        m2.append(list(map(int,input(\"Enter Element Row Wise Separeted by Space For Second Matrix\\n\").split())))\n",
    "    print(\"\\nFirst Matrix:\")\n",
    "    mat_print(m1)\n",
    "    print(\"\\nSecond Matrix:\")\n",
    "    mat_print(m2)\n",
    "    \n",
    "    #Output Matrix\n",
    "    m3 = [[0 for x in range(c2)] for y in range(r1)]\n",
    "    for i in range(r1):\n",
    "        for j in range(c2):\n",
    "            for k in range(r2):\n",
    "                m3[i][j] += m1[i][k] * m2[k][j]\n",
    "    print(\"\\nMultiplicated Matrix:\")\n",
    "    mat_print(m3)"
   ]
  },
  {
   "cell_type": "markdown",
   "id": "37c8eb2a",
   "metadata": {},
   "source": [
    "### 3. Write a Python Program to Transpose a Matrix?"
   ]
  },
  {
   "cell_type": "code",
   "execution_count": 9,
   "id": "4db29fe3",
   "metadata": {},
   "outputs": [
    {
     "name": "stdout",
     "output_type": "stream",
     "text": [
      "Enter Row & Column of The Matrix Separeted by Space:\n",
      "3 4\n",
      "Enter Element Row Wise Separeted by Space for The Matrix\n",
      "4 5 1 7\n",
      "Enter Element Row Wise Separeted by Space for The Matrix\n",
      "8 6 3 1\n",
      "Enter Element Row Wise Separeted by Space for The Matrix\n",
      "2 9 1 4\n",
      "\n",
      "Provided Matrix:\n",
      "4 5 1 7\n",
      "8 6 3 1\n",
      "2 9 1 4\n",
      "\n",
      "Transposed Matrix:\n",
      "4 8 2\n",
      "5 6 9\n",
      "1 3 1\n",
      "7 1 4\n"
     ]
    }
   ],
   "source": [
    "r1,c1 = tuple(map(int,input(\"Enter Row & Column of The Matrix Separeted by Space:\\n\").split()))\n",
    "m1,m2 = [],[]\n",
    "#Input Matrices:\n",
    "for i in range(r1):\n",
    "    m1.append(list(map(int,input(\"Enter Element Row Wise Separeted by Space for The Matrix\\n\").split())))\n",
    "print(\"\\nProvided Matrix:\")\n",
    "mat_print(m1)\n",
    "#Output Matrix\n",
    "for i in range(c1):\n",
    "    temp = []\n",
    "    for j in m1:\n",
    "        temp.append(j[i])\n",
    "    m2.append(temp)\n",
    "print(\"\\nTransposed Matrix:\")\n",
    "mat_print(m2)"
   ]
  },
  {
   "cell_type": "markdown",
   "id": "be52f497",
   "metadata": {},
   "source": [
    "### 4. Write a Python Program to Sort Words in Alphabetic Order?"
   ]
  },
  {
   "cell_type": "code",
   "execution_count": 11,
   "id": "cb775993",
   "metadata": {},
   "outputs": [
    {
     "name": "stdout",
     "output_type": "stream",
     "text": [
      "Enter a String: Arghyadeep\n",
      "Sorted String:  Aadeeghpry\n"
     ]
    }
   ],
   "source": [
    "string = input(\"Enter a String: \")\n",
    "print(\"Sorted String: \",\"\".join(sorted(string)))"
   ]
  },
  {
   "cell_type": "markdown",
   "id": "fff17a9f",
   "metadata": {},
   "source": [
    "### 5. Write a Python Program to Remove Punctuation From a String?"
   ]
  },
  {
   "cell_type": "code",
   "execution_count": 12,
   "id": "016cccd4",
   "metadata": {},
   "outputs": [
    {
     "name": "stdout",
     "output_type": "stream",
     "text": [
      "Enter a String: Arghya\"#@deep&*123\n",
      "Final String:  Arghyadeep123\n"
     ]
    }
   ],
   "source": [
    "number_ascii = list(range(48,58))\n",
    "caps_ascii = list(range(65,91))\n",
    "lower_ascii = list(range(97,123))\n",
    "desired_ascii = number_ascii + caps_ascii + lower_ascii\n",
    "\n",
    "string  = input(\"Enter a String: \")\n",
    "temp = list()\n",
    "for i in string:\n",
    "    if ord(i) in desired_ascii:\n",
    "        temp.append(i)\n",
    "print(\"Final String: \",\"\".join(temp))"
   ]
  }
 ],
 "metadata": {
  "kernelspec": {
   "display_name": "Python 3 (ipykernel)",
   "language": "python",
   "name": "python3"
  },
  "language_info": {
   "codemirror_mode": {
    "name": "ipython",
    "version": 3
   },
   "file_extension": ".py",
   "mimetype": "text/x-python",
   "name": "python",
   "nbconvert_exporter": "python",
   "pygments_lexer": "ipython3",
   "version": "3.9.7"
  }
 },
 "nbformat": 4,
 "nbformat_minor": 5
}
