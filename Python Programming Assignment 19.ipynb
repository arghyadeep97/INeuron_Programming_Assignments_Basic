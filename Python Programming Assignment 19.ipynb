{
 "cells": [
  {
   "cell_type": "markdown",
   "id": "19853de6",
   "metadata": {},
   "source": [
    "# Python Programming Assignment 19"
   ]
  },
  {
   "cell_type": "markdown",
   "id": "3f9f7de5",
   "metadata": {},
   "source": [
    "### Question 1\n",
    "#### Create a function that takes a string and returns a string in which each character is repeated once.\n",
    "### Examples\n",
    "#### double_char(\"String\") ➞ \"SSttrriinngg\"\n",
    "#### double_char(\"Hello World!\") ➞ \"HHeelllloo  WWoorrlldd!!\"\n",
    "#### double_char(\"1234!_ \") ➞ \"11223344!!__  \""
   ]
  },
  {
   "cell_type": "code",
   "execution_count": 2,
   "id": "facb1e37",
   "metadata": {},
   "outputs": [],
   "source": [
    "def double_char(string):\n",
    "    doubled = zip(list(string),list(string))\n",
    "    #Inner tupple joining into string\n",
    "    doubled = list(map(lambda x: \"\".join(x),doubled))\n",
    "    return \"\".join(doubled)"
   ]
  },
  {
   "cell_type": "code",
   "execution_count": 4,
   "id": "551f2324",
   "metadata": {},
   "outputs": [
    {
     "name": "stdout",
     "output_type": "stream",
     "text": [
      "Enter The String: 1234!_\n",
      "After Doubled:  11223344!!__\n"
     ]
    }
   ],
   "source": [
    "string = input(\"Enter The String: \")\n",
    "print(\"After Doubled: \",double_char(string))"
   ]
  },
  {
   "cell_type": "markdown",
   "id": "4654b458",
   "metadata": {},
   "source": [
    "### Question 2\n",
    "#### Create a function that reverses a boolean value and returns the string \"boolean expected\" if another variable type is given.\n",
    "### Examples\n",
    "#### reverse(True) ➞ False\n",
    "#### reverse(False) ➞ True\n",
    "#### reverse(0) ➞ \"boolean expected\"\n",
    "#### reverse(None) ➞ \"boolean expected\""
   ]
  },
  {
   "cell_type": "code",
   "execution_count": 22,
   "id": "2b6373aa",
   "metadata": {},
   "outputs": [],
   "source": [
    "def reverses(vals):\n",
    "    if vals == \"True\":\n",
    "        return False\n",
    "    elif vals == \"False\":\n",
    "        return True\n",
    "    else:\n",
    "        return \"boolean expected\""
   ]
  },
  {
   "cell_type": "code",
   "execution_count": 27,
   "id": "40788231",
   "metadata": {},
   "outputs": [
    {
     "name": "stdout",
     "output_type": "stream",
     "text": [
      "Enter a Value: False\n",
      "Reversed Boolean Value: True\n"
     ]
    }
   ],
   "source": [
    "val = input(\"Enter a Value: \")\n",
    "print(\"Reversed Boolean Value:\",reverses(val))"
   ]
  },
  {
   "cell_type": "markdown",
   "id": "90254648",
   "metadata": {},
   "source": [
    "### Question 3\n",
    "#### Create a function that returns the thickness (in meters) of a piece of paper after folding it n number of times. The paper starts off with a thickness of 0.5mm.\n",
    "### Examples\n",
    "#### num_layers(1) ➞ \"0.001m\"\n",
    "##### Paper folded once is 1mm (equal to 0.001m)\n",
    "#### num_layers(4) ➞ \"0.008m\"\n",
    "##### Paper folded 4 times is 8mm (equal to 0.008m)\n",
    "#### num_layers(21) ➞ \"1048.576m\"\n",
    "##### Paper folded 21 times is 1048576mm (equal to 1048.576m)"
   ]
  },
  {
   "cell_type": "code",
   "execution_count": 8,
   "id": "abaa5e36",
   "metadata": {},
   "outputs": [],
   "source": [
    "def num_layers(layer_no):\n",
    "    return 0.0005 * (2 ** layer_no)"
   ]
  },
  {
   "cell_type": "code",
   "execution_count": 9,
   "id": "37defe7a",
   "metadata": {},
   "outputs": [
    {
     "name": "stdout",
     "output_type": "stream",
     "text": [
      "Enter The Number of Layers: 21\n",
      "Total Thickness: 1048.576m\n"
     ]
    }
   ],
   "source": [
    "no_of_layer = int(input(\"Enter The Number of Layers: \"))\n",
    "print(\"Total Thickness: {}m\".format(num_layers(no_of_layer)))"
   ]
  },
  {
   "cell_type": "markdown",
   "id": "07bf7c80",
   "metadata": {},
   "source": [
    "### Question 4\n",
    "#### Create a function that takes a single string as argument and returns an ordered list containing the indices of all capital letters in the string.\n",
    "### Examples\n",
    "#### index_of_caps(\"eDaBiT\") ➞ [1, 3, 5]\n",
    "#### index_of_caps(\"eQuINoX\") ➞ [1, 3, 4, 6]\n",
    "#### index_of_caps(\"determine\") ➞ []\n",
    "#### index_of_caps(\"STRIKE\") ➞ [0, 1, 2, 3, 4, 5]\n",
    "#### index_of_caps(\"sUn\") ➞ [1]"
   ]
  },
  {
   "cell_type": "code",
   "execution_count": 11,
   "id": "b8ea0d7f",
   "metadata": {},
   "outputs": [],
   "source": [
    "def index_of_caps(string):\n",
    "    temp_list = enumerate(list(string))\n",
    "    final = [x[0] for x in temp_list if x[1].isupper() == 1]\n",
    "    return final"
   ]
  },
  {
   "cell_type": "code",
   "execution_count": 17,
   "id": "f79d2f22",
   "metadata": {},
   "outputs": [
    {
     "name": "stdout",
     "output_type": "stream",
     "text": [
      "Enter a String: eQuINoX\n",
      "UpperCase Index:  [1, 3, 4, 6]\n"
     ]
    }
   ],
   "source": [
    "string = input(\"Enter a String: \")\n",
    "print(\"UpperCase Index: \",index_of_caps(string))"
   ]
  },
  {
   "cell_type": "markdown",
   "id": "ae011350",
   "metadata": {},
   "source": [
    "### Question 5\n",
    "#### Using list comprehensions, create a function that finds all even numbers from 1 to the given number.\n",
    "### Examples\n",
    "#### find_even_nums(8) ➞ [2, 4, 6, 8]\n",
    "#### find_even_nums(4) ➞ [2, 4]\n",
    "#### find_even_nums(2) ➞ [2]"
   ]
  },
  {
   "cell_type": "code",
   "execution_count": 20,
   "id": "2a465759",
   "metadata": {},
   "outputs": [
    {
     "name": "stdout",
     "output_type": "stream",
     "text": [
      "Enter the Final Number: 11\n",
      "[2, 4, 6, 8, 10]\n"
     ]
    }
   ],
   "source": [
    "given_no  = int(input(\"Enter the Final Number: \"))\n",
    "print([x for x in range(1,given_no+1) if x%2 == 0])"
   ]
  }
 ],
 "metadata": {
  "kernelspec": {
   "display_name": "Python 3 (ipykernel)",
   "language": "python",
   "name": "python3"
  },
  "language_info": {
   "codemirror_mode": {
    "name": "ipython",
    "version": 3
   },
   "file_extension": ".py",
   "mimetype": "text/x-python",
   "name": "python",
   "nbconvert_exporter": "python",
   "pygments_lexer": "ipython3",
   "version": "3.9.7"
  }
 },
 "nbformat": 4,
 "nbformat_minor": 5
}
