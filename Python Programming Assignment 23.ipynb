{
 "cells": [
  {
   "cell_type": "markdown",
   "id": "e9702e25",
   "metadata": {},
   "source": [
    "# Python Programming Assignment 23"
   ]
  },
  {
   "cell_type": "markdown",
   "id": "1c702afe",
   "metadata": {},
   "source": [
    "### Question 1\n",
    "#### Create a function that takes a number as an argument and returns True or False depending on whether the number is symmetrical or not. A number is symmetrical when it is the same as its reverse.\n",
    "### Examples\n",
    "#### is_symmetrical(7227) ➞ True\n",
    "#### is_symmetrical(12567) ➞ False\n",
    "#### is_symmetrical(44444444) ➞ True\n",
    "#### is_symmetrical(9939) ➞ False\n",
    "#### is_symmetrical(1112111) ➞ True"
   ]
  },
  {
   "cell_type": "code",
   "execution_count": 1,
   "id": "6d078824",
   "metadata": {},
   "outputs": [],
   "source": [
    "def is_symmetrical(num):\n",
    "    if num == num[::-1]:\n",
    "        return True\n",
    "    else:\n",
    "        return False"
   ]
  },
  {
   "cell_type": "code",
   "execution_count": 2,
   "id": "b452f34f",
   "metadata": {},
   "outputs": [
    {
     "name": "stdout",
     "output_type": "stream",
     "text": [
      "Enter a Number: 1112111\n",
      "True\n"
     ]
    }
   ],
   "source": [
    "num = input(\"Enter a Number: \")\n",
    "print(is_symmetrical(num))"
   ]
  },
  {
   "cell_type": "markdown",
   "id": "80d9ddda",
   "metadata": {},
   "source": [
    "### Question 2\n",
    "#### Given a string of numbers separated by a comma and space, return the product of the numbers.\n",
    "### Examples\n",
    "#### multiply_nums(\"2, 3\") ➞ 6\n",
    "#### multiply_nums(\"1, 2, 3, 4\") ➞ 24\n",
    "#### multiply_nums(\"54, 75, 453, 0\") ➞ 0\n",
    "#### multiply_nums(\"10, -2\") ➞ -20"
   ]
  },
  {
   "cell_type": "code",
   "execution_count": 5,
   "id": "9d60e564",
   "metadata": {},
   "outputs": [
    {
     "name": "stdout",
     "output_type": "stream",
     "text": [
      "Enter Numbers:\n",
      "1, 2, 3, 4\n",
      "Product of Numbers: 24\n"
     ]
    }
   ],
   "source": [
    "#For multiple split we need re module\n",
    "from re import split\n",
    "nums = split(\", \",input(\"Enter Numbers:\\n\"))\n",
    "prod = 1\n",
    "for i in nums:\n",
    "    prod = prod * int(i)\n",
    "print(\"Product of Numbers:\",prod)"
   ]
  },
  {
   "cell_type": "markdown",
   "id": "87971bb3",
   "metadata": {},
   "source": [
    "### Question 3\n",
    "#### Create a function that squares every digit of a number.\n",
    "### Examples\n",
    "#### square_digits(9119) ➞ 811181\n",
    "#### square_digits(2483) ➞ 416649\n",
    "#### square_digits(3212) ➞ 9414\n",
    "### Notes\n",
    "#### The function receives an integer and must return an integer."
   ]
  },
  {
   "cell_type": "code",
   "execution_count": 8,
   "id": "938c8eba",
   "metadata": {},
   "outputs": [],
   "source": [
    "def square_digits(num):\n",
    "    num = list(str(num))\n",
    "    num = list(map(int,num))\n",
    "    temp_sq = list(map(lambda x: x **2,num))\n",
    "    temp_str = \"\".join(list(map(str,temp_sq)))\n",
    "    return int(temp_str)"
   ]
  },
  {
   "cell_type": "code",
   "execution_count": 9,
   "id": "9b164337",
   "metadata": {},
   "outputs": [
    {
     "name": "stdout",
     "output_type": "stream",
     "text": [
      "Enter a Number: 9119\n",
      "Squared Digit:  811181\n"
     ]
    }
   ],
   "source": [
    "num = int(input(\"Enter a Number: \"))\n",
    "print(\"Squared Digit: \",square_digits(num))"
   ]
  },
  {
   "cell_type": "markdown",
   "id": "1c51853f",
   "metadata": {},
   "source": [
    "### Question 4\n",
    "#### Create a function that sorts a list and removes all duplicate items from it.\n",
    "### Examples\n",
    "#### setify([1, 3, 3, 5, 5]) ➞ [1, 3, 5]\n",
    "#### setify([4, 4, 4, 4]) ➞ [4]\n",
    "#### setify([5, 7, 8, 9, 10, 15]) ➞ [5, 7, 8, 9, 10, 15]\n",
    "#### setify([3, 3, 3, 2, 1]) ➞ [1, 2, 3]"
   ]
  },
  {
   "cell_type": "code",
   "execution_count": 10,
   "id": "ea66f4c0",
   "metadata": {},
   "outputs": [],
   "source": [
    "def setify(num_list):\n",
    "    return list(set(num_list))"
   ]
  },
  {
   "cell_type": "code",
   "execution_count": 11,
   "id": "0cc32345",
   "metadata": {},
   "outputs": [
    {
     "name": "stdout",
     "output_type": "stream",
     "text": [
      "Enter Number List Separeted by Space:\n",
      "3 3 3 2 1 2 4\n",
      "After Removing Duplicate:\n",
      " [1, 2, 3, 4]\n"
     ]
    }
   ],
   "source": [
    "num_list = list(map(int,input(\"Enter Number List Separeted by Space:\\n\").split()))\n",
    "print(\"After Removing Duplicate:\\n\",setify(num_list))"
   ]
  },
  {
   "cell_type": "markdown",
   "id": "53a41bed",
   "metadata": {},
   "source": [
    "### Question 5\n",
    "#### Create a function that returns the mean of all digits.\n",
    "### Examples\n",
    "#### mean(42) ➞ 3\n",
    "#### mean(12345) ➞ 3\n",
    "#### mean(666) ➞ 6\n",
    "### Notes\n",
    "#### The mean of all digits is the sum of digits / how many digits there are (e.g. mean of digits in 512 is (5+1+2)/3(number of digits) = 8/3=2).\n",
    "#### The mean will always be an integer."
   ]
  },
  {
   "cell_type": "code",
   "execution_count": 17,
   "id": "f05e0492",
   "metadata": {},
   "outputs": [],
   "source": [
    "def mean(nums):\n",
    "    nums = list(str(nums))\n",
    "    temp_list = list(map(int,nums))\n",
    "    return round(sum(temp_list)/len(temp_list))"
   ]
  },
  {
   "cell_type": "code",
   "execution_count": 18,
   "id": "2bf3e0b9",
   "metadata": {},
   "outputs": [
    {
     "name": "stdout",
     "output_type": "stream",
     "text": [
      "Enter a Number: 12345\n",
      "Mean is:  3\n"
     ]
    }
   ],
   "source": [
    "num = int(input(\"Enter a Number: \"))\n",
    "print(\"Mean is: \",mean(num))"
   ]
  }
 ],
 "metadata": {
  "kernelspec": {
   "display_name": "Python 3 (ipykernel)",
   "language": "python",
   "name": "python3"
  },
  "language_info": {
   "codemirror_mode": {
    "name": "ipython",
    "version": 3
   },
   "file_extension": ".py",
   "mimetype": "text/x-python",
   "name": "python",
   "nbconvert_exporter": "python",
   "pygments_lexer": "ipython3",
   "version": "3.9.7"
  }
 },
 "nbformat": 4,
 "nbformat_minor": 5
}
