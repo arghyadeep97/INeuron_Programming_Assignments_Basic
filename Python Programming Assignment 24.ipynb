{
 "cells": [
  {
   "cell_type": "markdown",
   "id": "f0b04977",
   "metadata": {},
   "source": [
    "# Python Programming Assignment 24"
   ]
  },
  {
   "cell_type": "markdown",
   "id": "ae48e7f2",
   "metadata": {},
   "source": [
    "### Question 1\n",
    "#### Create a function that takes an integer and returns a list from 1 to the given number, where:\n",
    "#### If the number can be divided evenly by 4, amplify it by 10 (i.e. return 10 times the number).\n",
    "#### If the number cannot be divided evenly by 4, simply return the number.\n",
    "### Examples\n",
    "#### amplify(4) ➞ [1, 2, 3, 40]\n",
    "\n",
    "#### amplify(3) ➞ [1, 2, 3]\n",
    "\n",
    "#### amplify(25) ➞ [1, 2, 3, 40, 5, 6, 7, 80, 9, 10, 11, 120, 13, 14, 15, 160, 17, 18, 19, 200, 21, 22, 23, 240, 25]\n",
    "### Notes\n",
    "#### The given integer will always be equal to or greater than 1.\n",
    "#### Include the number (see example above).\n",
    "#### To perform this problem with its intended purpose, try doing it with list comprehensions. If that's too difficult, just solve the challenge any way you can.\n"
   ]
  },
  {
   "cell_type": "code",
   "execution_count": 3,
   "id": "095ced27",
   "metadata": {},
   "outputs": [],
   "source": [
    "def amplify(n):\n",
    "    op_list = [x*10 if x%4 == 0 else x for x in range(1,n+1)]\n",
    "    return op_list"
   ]
  },
  {
   "cell_type": "code",
   "execution_count": 6,
   "id": "0e345474",
   "metadata": {},
   "outputs": [
    {
     "name": "stdout",
     "output_type": "stream",
     "text": [
      "Enter a Number: 25\n",
      "[1, 2, 3, 40, 5, 6, 7, 80, 9, 10, 11, 120, 13, 14, 15, 160, 17, 18, 19, 200, 21, 22, 23, 240, 25]\n"
     ]
    }
   ],
   "source": [
    "num1 = int(input(\"Enter a Number: \"))\n",
    "if num1>1:\n",
    "    print(amplify(num1))\n",
    "else:\n",
    "    print(\"Input Should be Greater Than 1.\")"
   ]
  },
  {
   "cell_type": "markdown",
   "id": "271289a2",
   "metadata": {},
   "source": [
    "### Question 2\n",
    "#### Create a function that takes a list of numbers and return the number that's unique.\n",
    "### Examples\n",
    "#### unique([3, 3, 3, 7, 3, 3]) ➞ 7\n",
    "\n",
    "#### unique([0, 0, 0.77, 0, 0]) ➞ 0.77\n",
    "\n",
    "#### unique([0, 1, 1, 1, 1, 1, 1, 1]) ➞ 0\n",
    "### Notes\n",
    "#### Test cases will always have exactly one unique number while all others are the same."
   ]
  },
  {
   "cell_type": "code",
   "execution_count": 10,
   "id": "d675f992",
   "metadata": {},
   "outputs": [],
   "source": [
    "def unique(num_list):\n",
    "    unique_list = list(set(num_list))\n",
    "    if num_list.count(unique_list[0]) > 1:\n",
    "        return unique_list[1]\n",
    "    else:\n",
    "        return unique_list[0]"
   ]
  },
  {
   "cell_type": "code",
   "execution_count": 12,
   "id": "4fbded30",
   "metadata": {},
   "outputs": [
    {
     "name": "stdout",
     "output_type": "stream",
     "text": [
      "Enter the List Separeted by Space:\n",
      "3 3 3 7 3 3\n",
      "Unique Element of the Given List is:  7\n"
     ]
    }
   ],
   "source": [
    "num_list = list(input(\"Enter the List Separeted by Space:\\n\").split())\n",
    "print(\"Unique Element of the Given List is: \",unique(num_list))"
   ]
  },
  {
   "cell_type": "markdown",
   "id": "e885416b",
   "metadata": {},
   "source": [
    "### Question 3\n",
    "#### Your task is to create a Circle constructor that creates a circle with a radius provided by an argument. The circles constructed must have two getters getArea() (PIr^2) and getPerimeter() (2PI*r) which give both respective areas and perimeter (circumference).\n",
    "#### For help with this class, I have provided you with a Rectangle constructor which you can use as a base example.\n",
    "### Examples\n",
    "#### circy = Circle(11)\n",
    "#### circy.getArea()\n",
    "\n",
    "####  Should return 380.132711084365\n",
    "\n",
    "#### circy = Circle(4.44)\n",
    "#### circy.getPerimeter()\n",
    "\n",
    "#### Should return 27.897342763877365\n",
    "### Notes\n",
    "#### Round results up to the nearest integer."
   ]
  },
  {
   "cell_type": "code",
   "execution_count": 15,
   "id": "ecb790ee",
   "metadata": {},
   "outputs": [],
   "source": [
    "#For Pi Value\n",
    "from math import pi\n",
    "class Circle:\n",
    "    def __init__(self,r):\n",
    "        self.radius = r\n",
    "    def getArea(self):\n",
    "        return round(pi * (self.radius ** 2))\n",
    "    def getPerimeter(self):\n",
    "        return round(2 * pi * self.radius)"
   ]
  },
  {
   "cell_type": "code",
   "execution_count": 16,
   "id": "33ca4e8c",
   "metadata": {},
   "outputs": [
    {
     "name": "stdout",
     "output_type": "stream",
     "text": [
      "Area of the Circle is:  380\n",
      "Perimeter of the Circle is:  28\n"
     ]
    }
   ],
   "source": [
    "circy = Circle(11)\n",
    "print(\"Area of the Circle is: \",circy.getArea())\n",
    "circy = Circle(4.44)\n",
    "print(\"Perimeter of the Circle is: \",circy.getPerimeter())"
   ]
  },
  {
   "cell_type": "markdown",
   "id": "0cafaebe",
   "metadata": {},
   "source": [
    "### Question 4\n",
    "#### Create a function that takes a list of strings and return a list, sorted from shortest to longest.\n",
    "### Examples\n",
    "#### sort_by_length([\"Google\", \"Apple\", \"Microsoft\"])➞ [\"Apple\", \"Google\", \"Microsoft\"]\n",
    "\n",
    "#### sort_by_length([\"Leonardo\", \"Michelangelo\", \"Raphael\", \"Donatello\"])➞ [\"Raphael\", \"Leonardo\", \"Donatello\", \"Michelangelo\"]\n",
    "\n",
    "#### sort_by_length([\"Turing\", \"Einstein\", \"Jung\"])➞ [\"Jung\", \"Turing\", \"Einstein\"]\n",
    "### Notes\n",
    "#### All test cases contain lists with strings of different lengths, so you won't have to deal with multiple strings of the same length."
   ]
  },
  {
   "cell_type": "code",
   "execution_count": 17,
   "id": "58ee3d42",
   "metadata": {},
   "outputs": [],
   "source": [
    "def sort_by_length(str_list):\n",
    "    return sorted(str_list,key = len)"
   ]
  },
  {
   "cell_type": "code",
   "execution_count": 18,
   "id": "e85aeb2f",
   "metadata": {},
   "outputs": [
    {
     "name": "stdout",
     "output_type": "stream",
     "text": [
      "Enter String List Separeted by Space:\n",
      "Leonardo Michelangelo Raphael Donatello\n",
      "Sorted List by Length:\n",
      " ['Raphael', 'Leonardo', 'Donatello', 'Michelangelo']\n"
     ]
    }
   ],
   "source": [
    "str_list = input(\"Enter String List Separeted by Space:\\n\").split()\n",
    "print(\"Sorted List by Length:\\n\",sort_by_length(str_list))"
   ]
  },
  {
   "cell_type": "markdown",
   "id": "9b38b02a",
   "metadata": {},
   "source": [
    "### Question 5\n",
    "#### Create a function that validates whether three given integers form a Pythagorean triplet. The sum of the squares of the two smallest integers must equal the square of the largest number to be validated.\n",
    "\n",
    "### Examples\n",
    "#### is_triplet(3, 4, 5) ➞ True\n",
    "#### 3² + 4² = 25\n",
    "#### 5² = 25\n",
    "\n",
    "#### is_triplet(13, 5, 12) ➞ True\n",
    "#### 5² + 12² = 169\n",
    "#### 13² = 169\n",
    "\n",
    "#### is_triplet(1, 2, 3) ➞ False\n",
    "#### 1² + 2² = 5\n",
    "#### 3² = 9\n",
    "### Notes\n",
    "#### Numbers may not be given in a sorted order."
   ]
  },
  {
   "cell_type": "code",
   "execution_count": 19,
   "id": "12b85fcc",
   "metadata": {},
   "outputs": [],
   "source": [
    "def is_triplet(nums):\n",
    "    temp = sorted(list(map(lambda x : x**2,nums)))\n",
    "    if sum(temp[:-1]) == temp[-1]:\n",
    "        return True\n",
    "    else:\n",
    "        return False"
   ]
  },
  {
   "cell_type": "code",
   "execution_count": 21,
   "id": "4ef77a89",
   "metadata": {},
   "outputs": [
    {
     "name": "stdout",
     "output_type": "stream",
     "text": [
      "Enter Three Numbers Separeted by Space: 13 5 12\n",
      "True\n"
     ]
    }
   ],
   "source": [
    "nums = list(map(int,input(\"Enter Three Numbers Separeted by Space: \").split()))\n",
    "print(is_triplet(nums))"
   ]
  }
 ],
 "metadata": {
  "kernelspec": {
   "display_name": "Python 3 (ipykernel)",
   "language": "python",
   "name": "python3"
  },
  "language_info": {
   "codemirror_mode": {
    "name": "ipython",
    "version": 3
   },
   "file_extension": ".py",
   "mimetype": "text/x-python",
   "name": "python",
   "nbconvert_exporter": "python",
   "pygments_lexer": "ipython3",
   "version": "3.9.7"
  }
 },
 "nbformat": 4,
 "nbformat_minor": 5
}
