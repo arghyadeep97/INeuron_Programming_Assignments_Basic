{
 "cells": [
  {
   "cell_type": "markdown",
   "id": "d58b5785",
   "metadata": {},
   "source": [
    "# Python Programming Assignment 25"
   ]
  },
  {
   "cell_type": "markdown",
   "id": "1291e196",
   "metadata": {},
   "source": [
    "### Question 1\n",
    "#### Create a function that takes three integer arguments (a, b, c) and returns the amount of integers which are of equal value.\n",
    "### Examples\n",
    "#### equal(3, 4, 3) ➞ 2\n",
    "#### equal(1, 1, 1) ➞ 3\n",
    "#### equal(3, 4, 1) ➞ 0\n",
    "### Notes\n",
    "#### Your function must return 0, 2 or 3."
   ]
  },
  {
   "cell_type": "code",
   "execution_count": 1,
   "id": "ba9b0b06",
   "metadata": {},
   "outputs": [],
   "source": [
    "def equal_val(a,b,c):\n",
    "    new = list(set((a,b,c)))\n",
    "    if len(new) == 3:\n",
    "        return 0\n",
    "    elif len(new) == 2:\n",
    "        return 2\n",
    "    elif len(new) == 1:\n",
    "        return 3"
   ]
  },
  {
   "cell_type": "code",
   "execution_count": 2,
   "id": "a4e2eb98",
   "metadata": {},
   "outputs": [
    {
     "name": "stdout",
     "output_type": "stream",
     "text": [
      "Enter Three Numbers Separeted by Space: 3 4 3\n",
      "Amount of Integer which are Equal Value:  2\n"
     ]
    }
   ],
   "source": [
    "num1,num2,num3 = tuple(input(\"Enter Three Numbers Separeted by Space: \").split())\n",
    "print(\"Amount of Integer which are Equal Value: \",equal_val(int(num1),int(num2),int(num3)))"
   ]
  },
  {
   "cell_type": "markdown",
   "id": "176e7adf",
   "metadata": {},
   "source": [
    "### Question 2\n",
    "#### Write a function that converts a dictionary into a list of keys-values tuples.\n",
    "### Examples\n",
    "##### dict_to_list({\n",
    " ##### \"D\": 1,\n",
    " ##### \"B\": 2,\n",
    " ##### \"C\": 3\n",
    "##### }) ➞ [(\"B\", 2), (\"C\", 3), (\"D\", 1)]\n",
    "\n",
    "##### dict_to_list({\n",
    " ##### \"likes\": 2,\n",
    " ##### \"dislikes\": 3,\n",
    " ##### \"followers\": 10\n",
    "##### }) ➞ [(\"dislikes\", 3), (\"followers\", 10), (\"likes\", 2)]\n",
    "### Notes\n",
    "#### Return the elements in the list in alphabetical order.\n"
   ]
  },
  {
   "cell_type": "code",
   "execution_count": 3,
   "id": "2df4385f",
   "metadata": {},
   "outputs": [],
   "source": [
    "def dict_to_list(dictx):\n",
    "    return sorted(dictx.items(),key = lambda x : x[0])"
   ]
  },
  {
   "cell_type": "code",
   "execution_count": 4,
   "id": "b639d2b1",
   "metadata": {},
   "outputs": [
    {
     "name": "stdout",
     "output_type": "stream",
     "text": [
      "[('dislikes', 3), ('followers', 10), ('likes', 2)]\n"
     ]
    }
   ],
   "source": [
    "dict1 = {\"likes\": 2,\"dislikes\": 3,\"followers\": 10}\n",
    "print(dict_to_list(dict1))"
   ]
  },
  {
   "cell_type": "markdown",
   "id": "2da83968",
   "metadata": {},
   "source": [
    "### Question 3\n",
    "#### Write a function that creates a dictionary with each (key, value) pair being the (lower case, upper case) versions of a letter, respectively.\n",
    "### Examples\n",
    "#### mapping([\"p\", \"s\"]) ➞ { \"p\": \"P\", \"s\": \"S\" }\n",
    "\n",
    "#### mapping([\"a\", \"b\", \"c\"]) ➞ { \"a\": \"A\", \"b\": \"B\", \"c\": \"C\" }\n",
    "\n",
    "#### mapping([\"a\", \"v\", \"y\", \"z\"]) ➞ { \"a\": \"A\", \"v\": \"V\", \"y\": \"Y\", \"z\": \"Z\" }\n",
    "### Notes\n",
    "#### All of the letters in the input list will always be lowercase.\n"
   ]
  },
  {
   "cell_type": "code",
   "execution_count": 5,
   "id": "61846bd8",
   "metadata": {},
   "outputs": [],
   "source": [
    "def dict_creator(lower_alpha):\n",
    "    capt_alpha = list(map(lambda x: x.upper(),lower_alpha))\n",
    "    return dict(zip(lower_alpha,capt_alpha))"
   ]
  },
  {
   "cell_type": "code",
   "execution_count": 6,
   "id": "52c012c6",
   "metadata": {},
   "outputs": [
    {
     "name": "stdout",
     "output_type": "stream",
     "text": [
      "Enter Lower-Case Characters:\n",
      "dagldjkbsw\n",
      "{'d': 'D', 'a': 'A', 'g': 'G', 'l': 'L', 'j': 'J', 'k': 'K', 'b': 'B', 's': 'S', 'w': 'W'}\n"
     ]
    }
   ],
   "source": [
    "lower_case = list(input(\"Enter Lower-Case Characters:\\n\"))\n",
    "print(dict_creator(lower_case))"
   ]
  },
  {
   "cell_type": "markdown",
   "id": "446fb92e",
   "metadata": {},
   "source": [
    "### Question 4\n",
    "#### Write a function, that replaces all vowels in a string with a specified vowel.\n",
    "### Examples\n",
    "#### vow_replace(\"apples and bananas\", \"u\") ➞ \"upplus und bununus\"\n",
    "\n",
    "#### vow_replace(\"cheese casserole\", \"o\") ➞ \"chooso cossorolo\"\n",
    "\n",
    "#### vow_replace(\"stuffed jalapeno poppers\", \"e\") ➞ \"steffed jelepene peppers\"\n",
    "### Notes\n",
    "#### All words will be lowercase. Y is not considered a vowel."
   ]
  },
  {
   "cell_type": "code",
   "execution_count": 7,
   "id": "14656fe9",
   "metadata": {},
   "outputs": [],
   "source": [
    "def vow_replace(string,vow):\n",
    "    new_str = list(string)\n",
    "    vowels = [\"a\",\"e\",\"i\",\"o\",\"u\"]\n",
    "    replaced = list(map(lambda x: vow if x in vowels else x,new_str))\n",
    "    return \"\".join(replaced)"
   ]
  },
  {
   "cell_type": "code",
   "execution_count": 8,
   "id": "82a4f484",
   "metadata": {},
   "outputs": [
    {
     "name": "stdout",
     "output_type": "stream",
     "text": [
      "Enter the String: stuffed jalapeno poppers\n",
      "Enter The Character to be Replaced: e\n",
      "steffed jelepene peppers\n"
     ]
    }
   ],
   "source": [
    "string = input(\"Enter the String: \")\n",
    "char = input(\"Enter The Character to be Replaced: \")\n",
    "print(vow_replace(string,char))"
   ]
  },
  {
   "cell_type": "markdown",
   "id": "83044daf",
   "metadata": {},
   "source": [
    "### Question5\n",
    "#### Create a function that takes a string as input and capitalizes a letter if its ASCII code is even and returns its lower case version if its ASCII code is odd.\n",
    "### Examples\n",
    "#### ascii_capitalize(\"to be or not to be!\") ➞ \"To Be oR NoT To Be!\"\n",
    "\n",
    "#### ascii_capitalize(\"THE LITTLE MERMAID\") ➞ \"THe LiTTLe meRmaiD\"\n",
    "\n",
    "#### ascii_capitalize(\"Oh what a beautiful morning.\") ➞ \"oH wHaT a BeauTiFuL moRNiNg.\"\n"
   ]
  },
  {
   "cell_type": "code",
   "execution_count": 15,
   "id": "20e13e2e",
   "metadata": {},
   "outputs": [],
   "source": [
    "def ascii_capitalize(string):\n",
    "    new_str = list(string)\n",
    "    replaced = list(map(lambda x: x.upper() if ord(x)%2 == 0 else x.lower(),new_str))\n",
    "    return \"\".join(replaced)"
   ]
  },
  {
   "cell_type": "code",
   "execution_count": 16,
   "id": "39998373",
   "metadata": {},
   "outputs": [
    {
     "name": "stdout",
     "output_type": "stream",
     "text": [
      "Enter a String: Oh what a beautiful morning.\n",
      "oH wHaT a BeauTiFuL moRNiNg.\n"
     ]
    }
   ],
   "source": [
    "string = input(\"Enter a String: \")\n",
    "print(ascii_capitalize(string))"
   ]
  }
 ],
 "metadata": {
  "kernelspec": {
   "display_name": "Python 3 (ipykernel)",
   "language": "python",
   "name": "python3"
  },
  "language_info": {
   "codemirror_mode": {
    "name": "ipython",
    "version": 3
   },
   "file_extension": ".py",
   "mimetype": "text/x-python",
   "name": "python",
   "nbconvert_exporter": "python",
   "pygments_lexer": "ipython3",
   "version": "3.9.7"
  }
 },
 "nbformat": 4,
 "nbformat_minor": 5
}
