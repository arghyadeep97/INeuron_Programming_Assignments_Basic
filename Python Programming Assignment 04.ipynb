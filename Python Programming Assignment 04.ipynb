{
 "cells": [
  {
   "cell_type": "markdown",
   "id": "a7f30544",
   "metadata": {},
   "source": [
    "# Python Programming Assignment 4"
   ]
  },
  {
   "cell_type": "markdown",
   "id": "e3e61f45",
   "metadata": {},
   "source": [
    "### 1. Write a Python Program to Find the Factorial of a Number?"
   ]
  },
  {
   "cell_type": "code",
   "execution_count": 31,
   "id": "1337d065",
   "metadata": {},
   "outputs": [
    {
     "name": "stdout",
     "output_type": "stream",
     "text": [
      "Enter a Number: 3\n",
      "Factorial is:  6\n"
     ]
    }
   ],
   "source": [
    "inp_number = int(input(\"Enter a Number: \"))\n",
    "if inp_number == 0:\n",
    "    fact = 1\n",
    "else:\n",
    "    fact = inp_number\n",
    "    for i in range(1,inp_number):\n",
    "        fact = fact * i\n",
    "print(\"Factorial is: \",fact)"
   ]
  },
  {
   "cell_type": "markdown",
   "id": "b3339640",
   "metadata": {},
   "source": [
    "### 2. Write a Python Program to Display the multiplication Table?"
   ]
  },
  {
   "cell_type": "code",
   "execution_count": 2,
   "id": "97a19c28",
   "metadata": {},
   "outputs": [
    {
     "name": "stdout",
     "output_type": "stream",
     "text": [
      "Enter a Number: 10\n",
      "10   X   1 = 10\n",
      "10   X   2 = 20\n",
      "10   X   3 = 30\n",
      "10   X   4 = 40\n",
      "10   X   5 = 50\n",
      "10   X   6 = 60\n",
      "10   X   7 = 70\n",
      "10   X   8 = 80\n",
      "10   X   9 = 90\n",
      "10   X   10 = 100\n"
     ]
    }
   ],
   "source": [
    "inp_number = int(input(\"Enter a Number: \"))\n",
    "for i in range(1,inp_number+1):\n",
    "    print(\"{}   X   {} = {}\".format(inp_number,i,inp_number * i) )"
   ]
  },
  {
   "cell_type": "markdown",
   "id": "71fbdb7e",
   "metadata": {},
   "source": [
    "### 3. Write a Python Program to Print the Fibonacci sequence?"
   ]
  },
  {
   "cell_type": "code",
   "execution_count": 3,
   "id": "7e3c91b4",
   "metadata": {},
   "outputs": [
    {
     "name": "stdout",
     "output_type": "stream",
     "text": [
      "Enter the number of element in sequence: 20\n",
      "Fibonacci Series:\n",
      " 0 1 1 2 3 5 8 13 21 34 55 89 144 233 377 610 987 1597 2584 4181\n"
     ]
    }
   ],
   "source": [
    "inp_number = int(input(\"Enter the number of element in sequence: \"))\n",
    "fibo_seq = [0,1]\n",
    "for i in range(inp_number-2):\n",
    "    fibo_seq.append(fibo_seq[-1]+fibo_seq[-2])\n",
    "print(\"Fibonacci Series:\\n\",*fibo_seq)"
   ]
  },
  {
   "cell_type": "markdown",
   "id": "a536913a",
   "metadata": {},
   "source": [
    "### 4. Write a Python Program to Check Armstrong Number?"
   ]
  },
  {
   "cell_type": "code",
   "execution_count": 12,
   "id": "b2674621",
   "metadata": {},
   "outputs": [
    {
     "name": "stdout",
     "output_type": "stream",
     "text": [
      "Enter a Number: 8208\n",
      "Given Number is Armstrong\n"
     ]
    }
   ],
   "source": [
    "inp_number = input(\"Enter a Number: \")\n",
    "temp_list = [int(x)**len(inp_number) for x in inp_number]\n",
    "if sum(temp_list) == int(inp_number):\n",
    "    print(\"Given Number is Armstrong\")\n",
    "else:\n",
    "    print(\"Given Number is not Armstrong\")"
   ]
  },
  {
   "cell_type": "markdown",
   "id": "0dc26072",
   "metadata": {},
   "source": [
    "### 5. Write a Python Program to Find Armstrong Number in an Interval?"
   ]
  },
  {
   "cell_type": "code",
   "execution_count": 13,
   "id": "84cbc432",
   "metadata": {},
   "outputs": [],
   "source": [
    "def armstrong_check(inp_number):\n",
    "    temp_list = [int(x)**len(inp_number) for x in inp_number]\n",
    "    if sum(temp_list) == int(inp_number):\n",
    "        return 1\n",
    "    else:\n",
    "        return 0"
   ]
  },
  {
   "cell_type": "code",
   "execution_count": 18,
   "id": "ab1ca88d",
   "metadata": {},
   "outputs": [
    {
     "name": "stdout",
     "output_type": "stream",
     "text": [
      "Enter Start Point and End Point Separeted by Space: 0 10000\n",
      "Armstrong Numbers in Specified Interval:\n",
      "0 1 2 3 4 5 6 7 8 9 153 370 371 407 1634 8208 9474 "
     ]
    }
   ],
   "source": [
    "interval = list(map(int,input(\"Enter Start Point and End Point Separeted by Space: \").split()))\n",
    "if interval[0] < interval[1]:\n",
    "    print(\"Armstrong Numbers in Specified Interval:\")\n",
    "    for i in range(interval[0],interval[1]+1):\n",
    "        if armstrong_check(str(i)) == 1:\n",
    "            print(i, end = \" \")"
   ]
  },
  {
   "cell_type": "markdown",
   "id": "35364f20",
   "metadata": {},
   "source": [
    "### 6. Write a Python Program to Find the Sum of Natural Numbers?"
   ]
  },
  {
   "cell_type": "code",
   "execution_count": 25,
   "id": "b525d1d0",
   "metadata": {},
   "outputs": [
    {
     "name": "stdout",
     "output_type": "stream",
     "text": [
      "Enter Start Point and End Point Separeted by Space: 1 100\n",
      "Sum of given Natural Number Interval:  5050\n"
     ]
    }
   ],
   "source": [
    "interval = list(map(int,input(\"Enter Start Point and End Point Separeted by Space: \").split()))\n",
    "if (interval[0] >= 1) and (interval[0] < interval[1]):\n",
    "    temp_list = list(range(interval[0],interval[1]+1))\n",
    "    print(\"Sum of given Natural Number Interval: \",sum(temp_list))\n",
    "else:\n",
    "    print(\"Unable to generate Natural Number Sequence\")"
   ]
  }
 ],
 "metadata": {
  "kernelspec": {
   "display_name": "Python 3 (ipykernel)",
   "language": "python",
   "name": "python3"
  },
  "language_info": {
   "codemirror_mode": {
    "name": "ipython",
    "version": 3
   },
   "file_extension": ".py",
   "mimetype": "text/x-python",
   "name": "python",
   "nbconvert_exporter": "python",
   "pygments_lexer": "ipython3",
   "version": "3.9.7"
  }
 },
 "nbformat": 4,
 "nbformat_minor": 5
}
