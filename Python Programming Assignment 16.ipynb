{
 "cells": [
  {
   "cell_type": "markdown",
   "id": "967d6239",
   "metadata": {},
   "source": [
    "# Python Programming Assignment 16"
   ]
  },
  {
   "cell_type": "markdown",
   "id": "4250973d",
   "metadata": {},
   "source": [
    "### Question 1\n",
    "#### Write a function that stutters a word as if someone is struggling to read it. The first two letters are repeated twice with an ellipsis ... and space after each, and then the word is pronounced with a question mark ?.\n",
    "### Examples\n",
    "#### stutter(\"incredible\") ➞ \"in... in... incredible?\"\n",
    "#### stutter(\"enthusiastic\") ➞ \"en... en... enthusiastic?\"\n",
    "#### stutter(\"outstanding\") ➞ \"ou... ou... outstanding?\"\n",
    "#### Hint :- Assume all input is in lower case and at least two characters long."
   ]
  },
  {
   "cell_type": "code",
   "execution_count": 1,
   "id": "41db2bf9",
   "metadata": {},
   "outputs": [],
   "source": [
    "def shutter(word):\n",
    "    return word[:2]+\"... \"+word[:2]+\"... \" + word"
   ]
  },
  {
   "cell_type": "code",
   "execution_count": 4,
   "id": "6319b159",
   "metadata": {},
   "outputs": [
    {
     "name": "stdout",
     "output_type": "stream",
     "text": [
      "Enter a Word: enthusiastic\n",
      "After Shutter: en... en... enthusiastic\n"
     ]
    }
   ],
   "source": [
    "word = input(\"Enter a Word: \")\n",
    "print(\"After Shutter:\",shutter(word))"
   ]
  },
  {
   "cell_type": "markdown",
   "id": "4bd5efbb",
   "metadata": {},
   "source": [
    "### Question 2\n",
    "#### Create a function that takes an angle in radians and returns the corresponding angle in degrees rounded to one decimal place.\n",
    "### Examples\n",
    "#### radians_to_degrees(1) ➞ 57.3\n",
    "#### radians_to_degrees(20) ➞ 1145.9\n",
    "#### radians_to_degrees(50) ➞ 2864.8"
   ]
  },
  {
   "cell_type": "code",
   "execution_count": 7,
   "id": "4c460c8d",
   "metadata": {},
   "outputs": [],
   "source": [
    "#We need to import pi function from math module\n",
    "from math import pi\n",
    "def radians_to_degrees(angle):\n",
    "    return \"{0:.1f}\".format(angle*180/pi)"
   ]
  },
  {
   "cell_type": "code",
   "execution_count": 9,
   "id": "b808c46b",
   "metadata": {},
   "outputs": [
    {
     "name": "stdout",
     "output_type": "stream",
     "text": [
      "Enter the Angle Value in Radian: 50\n",
      "Corresponding Degree Value: 2864.8\n"
     ]
    }
   ],
   "source": [
    "angle = int(input(\"Enter the Angle Value in Radian: \"))\n",
    "print(\"Corresponding Degree Value:\",radians_to_degrees(angle))"
   ]
  },
  {
   "cell_type": "markdown",
   "id": "dba76fab",
   "metadata": {},
   "source": [
    "### Question 3 \n",
    "#### In this challenge, establish if a given integer num is a Curzon number. If 1 plus 2 elevated to num is exactly divisible by 1 plus 2 multiplied by num, then num is a Curzon number.\n",
    "#### Given a non-negative integer num, implement a function that returns True if num is a Curzon number, or False otherwise.\n",
    "### Examples\n",
    "#### is_curzon(5) ➞ True\n",
    "#### 2 ** 5 + 1 = 33\n",
    "#### 2 * 5 + 1 = 11\n",
    "#### 33 is a multiple of 11\n",
    "\n",
    "#### is_curzon(10) ➞ False\n",
    "#### 2 ** 10 + 1 = 1025\n",
    "#### 2 * 10 + 1 = 21\n",
    "#### 1025 is not a multiple of 21\n",
    "\n",
    "#### is_curzon(14) ➞ True\n",
    "#### 2 ** 14 + 1 = 16385\n",
    "#### 2 * 14 + 1 = 29\n",
    "#### 16385 is a multiple of 29"
   ]
  },
  {
   "cell_type": "code",
   "execution_count": 18,
   "id": "3530668a",
   "metadata": {},
   "outputs": [],
   "source": [
    "def is_curzon(num):\n",
    "    if ((2 ** num) + 1) % ((2 * num) + 1) == 0.0:\n",
    "        return True\n",
    "    else:\n",
    "        return False"
   ]
  },
  {
   "cell_type": "code",
   "execution_count": 21,
   "id": "d2f90b71",
   "metadata": {},
   "outputs": [
    {
     "name": "stdout",
     "output_type": "stream",
     "text": [
      "Enter a Number: 10\n",
      "False\n"
     ]
    }
   ],
   "source": [
    "num = int(input(\"Enter a Number: \"))\n",
    "print(is_curzon(num))"
   ]
  },
  {
   "cell_type": "markdown",
   "id": "1272e62e",
   "metadata": {},
   "source": [
    "### Question 4\n",
    "#### Given the side length x find the area of a hexagon.\n",
    "### Examples\n",
    "#### area_of_hexagon(1) ➞ 2.6\n",
    "#### area_of_hexagon(2) ➞ 10.4\n",
    "#### area_of_hexagon(3) ➞ 23.4"
   ]
  },
  {
   "cell_type": "code",
   "execution_count": 24,
   "id": "7521f08e",
   "metadata": {},
   "outputs": [],
   "source": [
    "def area_of_hexagon(arm_len):\n",
    "    return \"{0:.1f}\".format(3/2 * (3 ** 0.5) * (arm_len ** 2))"
   ]
  },
  {
   "cell_type": "code",
   "execution_count": 28,
   "id": "235c33e8",
   "metadata": {},
   "outputs": [
    {
     "name": "stdout",
     "output_type": "stream",
     "text": [
      "Enter the Side Length of a Hexagon: 1\n",
      "Area of the Hexagon is: 2.6\n"
     ]
    }
   ],
   "source": [
    "side_len = float(input(\"Enter the Side Length of a Hexagon: \"))\n",
    "print(\"Area of the Hexagon is:\",area_of_hexagon(side_len))"
   ]
  },
  {
   "cell_type": "markdown",
   "id": "a4e41ae9",
   "metadata": {},
   "source": [
    "### Question 5 \n",
    "#### Create a function that returns a base-2 (binary) representation of a base-10 (decimal) string number. To convert is simple: ((2) means base-2 and (10) means base-10) 010101001(2) = 1 + 8 + 32 + 128.\n",
    "#### Going from right to left, the value of the most right bit is 1, now from that every bit to the left will be x2 the value, value of an 8 bit binary numbers are (256, 128, 64, 32, 16, 8, 4, 2, 1).\n",
    "### Examples\n",
    "#### binary(1) ➞ \"1\"\n",
    "#### 1*1 = 1\n",
    "#### binary(5) ➞ \"101\"\n",
    "#### 1*1 + 1*4 = 5\n",
    "#### binary(10) ➞ \"1010\"\n",
    "#### 1*2 + 1*8 = 10"
   ]
  },
  {
   "cell_type": "code",
   "execution_count": 31,
   "id": "c1a50141",
   "metadata": {},
   "outputs": [],
   "source": [
    "def binary(dec):\n",
    "    return bin(dec).replace(\"0b\",\"\")"
   ]
  },
  {
   "cell_type": "code",
   "execution_count": 34,
   "id": "4b84fc34",
   "metadata": {},
   "outputs": [
    {
     "name": "stdout",
     "output_type": "stream",
     "text": [
      "Enter the Decimal No: 5\n",
      "Corresponding Binary Number: 101\n"
     ]
    }
   ],
   "source": [
    "dec_num = int(input(\"Enter the Decimal No: \"))\n",
    "print(\"Corresponding Binary Number:\",binary(dec_num))"
   ]
  }
 ],
 "metadata": {
  "kernelspec": {
   "display_name": "Python 3 (ipykernel)",
   "language": "python",
   "name": "python3"
  },
  "language_info": {
   "codemirror_mode": {
    "name": "ipython",
    "version": 3
   },
   "file_extension": ".py",
   "mimetype": "text/x-python",
   "name": "python",
   "nbconvert_exporter": "python",
   "pygments_lexer": "ipython3",
   "version": "3.9.7"
  }
 },
 "nbformat": 4,
 "nbformat_minor": 5
}
