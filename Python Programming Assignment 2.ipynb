{
 "cells": [
  {
   "cell_type": "markdown",
   "id": "161f5629",
   "metadata": {},
   "source": [
    "# Python Programming Assignment 2"
   ]
  },
  {
   "cell_type": "markdown",
   "id": "9ccfd8e8",
   "metadata": {},
   "source": [
    "### 1. Write a Python program to convert kilometers to miles?"
   ]
  },
  {
   "cell_type": "code",
   "execution_count": 7,
   "id": "867bd943",
   "metadata": {},
   "outputs": [
    {
     "name": "stdout",
     "output_type": "stream",
     "text": [
      "Enter the value in Kilometer: 45\n",
      "45.0 kilometer = 27.961695 mile\n"
     ]
    }
   ],
   "source": [
    "km = float(input(\"Enter the value in Kilometer: \"))\n",
    "print(\"{} kilometer = {} mile\".format(km,km*0.621371))"
   ]
  },
  {
   "cell_type": "markdown",
   "id": "51c42372",
   "metadata": {},
   "source": [
    "### 2. Write a Python program to convert Celsius to Fahrenheit?"
   ]
  },
  {
   "cell_type": "code",
   "execution_count": 8,
   "id": "74a83568",
   "metadata": {},
   "outputs": [
    {
     "name": "stdout",
     "output_type": "stream",
     "text": [
      "Enter tempareture in Celcius: 37.3\n",
      "37.3 Celcius = 99.14 Fahrenheit\n"
     ]
    }
   ],
   "source": [
    "cel = float(input(\"Enter tempareture in Celcius: \"))\n",
    "print(\"{} Celcius = {} Fahrenheit\".format(cel, (9/5 * cel)+32))"
   ]
  },
  {
   "cell_type": "markdown",
   "id": "d6dc2e16",
   "metadata": {},
   "source": [
    "### 3. Write a Python program to display calendar?"
   ]
  },
  {
   "cell_type": "code",
   "execution_count": 1,
   "id": "0a6ad4cf",
   "metadata": {},
   "outputs": [
    {
     "name": "stdout",
     "output_type": "stream",
     "text": [
      "Enter the Year; 2019\n",
      "Enter the Month: 10\n",
      "    October 2019\n",
      "Mo Tu We Th Fr Sa Su\n",
      "    1  2  3  4  5  6\n",
      " 7  8  9 10 11 12 13\n",
      "14 15 16 17 18 19 20\n",
      "21 22 23 24 25 26 27\n",
      "28 29 30 31\n",
      "\n"
     ]
    }
   ],
   "source": [
    "from calendar import month\n",
    "yy = int(input(\"Enter the Year; \"))\n",
    "mm = int(input(\"Enter the Month: \"))\n",
    "print(month(yy,mm))"
   ]
  },
  {
   "cell_type": "markdown",
   "id": "1fc17866",
   "metadata": {},
   "source": [
    "### 4. Write a Python program to solve quadratic equation?"
   ]
  },
  {
   "cell_type": "code",
   "execution_count": null,
   "id": "9715e19c",
   "metadata": {},
   "outputs": [],
   "source": [
    "a = float(input(\"Enter coefficient of X^2: \"))\n",
    "b = float(input(\"Enter coefficient of X^1: \"))\n",
    "c = float(input(\"Enter coefficient of X^0: \"))\n",
    "\n",
    "#First root \n",
    "root1 = (-b+((b**2) - (4 * a * c))**0.5)/(2 * a)\n",
    "root2 = (-b-((b**2) - (4 * a * c))**0.5)/(2 * a)\n",
    "\n",
    "print(\"Roots are: \",root1,root2)"
   ]
  },
  {
   "cell_type": "markdown",
   "id": "3e9480e3",
   "metadata": {},
   "source": [
    "### 5. Write a Python program to swap two variables without temp variable?"
   ]
  },
  {
   "cell_type": "code",
   "execution_count": 9,
   "id": "575ae93a",
   "metadata": {},
   "outputs": [
    {
     "name": "stdout",
     "output_type": "stream",
     "text": [
      "Current Value of X is 10 and Y is 20\n",
      "Swapped Value of X is 20 and Y is 10\n"
     ]
    }
   ],
   "source": [
    "# Consider two variables X and Y\n",
    "X,Y  = 10,20\n",
    "print(\"Current Value of X is {} and Y is {}\".format(X,Y))\n",
    "\n",
    "#Let's Swap\n",
    "X = X + Y\n",
    "Y  = X - Y\n",
    "X = X-Y\n",
    "print(\"Swapped Value of X is {} and Y is {}\".format(X,Y))"
   ]
  }
 ],
 "metadata": {
  "kernelspec": {
   "display_name": "Python 3 (ipykernel)",
   "language": "python",
   "name": "python3"
  },
  "language_info": {
   "codemirror_mode": {
    "name": "ipython",
    "version": 3
   },
   "file_extension": ".py",
   "mimetype": "text/x-python",
   "name": "python",
   "nbconvert_exporter": "python",
   "pygments_lexer": "ipython3",
   "version": "3.9.7"
  }
 },
 "nbformat": 4,
 "nbformat_minor": 5
}
