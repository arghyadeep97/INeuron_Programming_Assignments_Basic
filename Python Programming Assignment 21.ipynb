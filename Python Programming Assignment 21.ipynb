{
 "cells": [
  {
   "cell_type": "markdown",
   "id": "03d50320",
   "metadata": {},
   "source": [
    "# Python Programming Assignment 21"
   ]
  },
  {
   "cell_type": "markdown",
   "id": "aa57a89a",
   "metadata": {},
   "source": [
    "### Question 1\n",
    "#### Write a function that takes a list and a number as arguments. Add the number to the end of the list, then remove the first element of the list. The function should then return the updated list.\n",
    "### Examples\n",
    "#### next_in_line([5, 6, 7, 8, 9], 1) ➞ [6, 7, 8, 9, 1]\n",
    "#### next_in_line([7, 6, 3, 23, 17], 10) ➞ [6, 3, 23, 17, 10]\n",
    "#### next_in_line([1, 10, 20, 42 ], 6) ➞ [10, 20, 42, 6]\n",
    "#### next_in_line([], 6) ➞ \"No list has been selected\""
   ]
  },
  {
   "cell_type": "code",
   "execution_count": 1,
   "id": "02e03dd0",
   "metadata": {},
   "outputs": [],
   "source": [
    "def next_in_line(list1,num):\n",
    "    return list1[1:] + [num]"
   ]
  },
  {
   "cell_type": "code",
   "execution_count": 2,
   "id": "638c6b32",
   "metadata": {},
   "outputs": [
    {
     "name": "stdout",
     "output_type": "stream",
     "text": [
      "Enter The Number List Separeted by Space:\n",
      "7 6 3 23 17\n",
      "Enter The Number to Be Inserted: 10\n",
      "After Inserted:\n",
      " [6, 3, 23, 17, 10]\n"
     ]
    }
   ],
   "source": [
    "ip_list = list(map(int,input(\"Enter The Number List Separeted by Space:\\n\").split()))\n",
    "num_insert = int(input(\"Enter The Number to Be Inserted: \"))\n",
    "print(\"After Inserted:\\n\",next_in_line(ip_list,num_insert))"
   ]
  },
  {
   "cell_type": "markdown",
   "id": "2695ffe2",
   "metadata": {},
   "source": [
    "### Question 2\n",
    "#### Create the function that takes a list of dictionaries and returns the sum of people's budgets.\n",
    "### Examples\n",
    "##### get_budgets([\n",
    "  ###### { \"name\": \"John\", \"age\": 21, \"budget\": 23000 },\n",
    "  ###### { \"name\": \"Steve\",  \"age\": 32, \"budget\": 40000 },\n",
    "  ###### { \"name\": \"Martin\",  \"age\": 16, \"budget\": 2700 }\n",
    "##### ]) ➞ 65700\n",
    "\n",
    "##### get_budgets([\n",
    "  ##### { \"name\": \"John\",  \"age\": 21, \"budget\": 29000 },\n",
    "  ##### { \"name\": \"Steve\",  \"age\": 32, \"budget\": 32000 },\n",
    "  ##### { \"name\": \"Martin\",  \"age\": 16, \"budget\": 1600 }\n",
    "##### ]) ➞ 62600"
   ]
  },
  {
   "cell_type": "code",
   "execution_count": 14,
   "id": "f3092e73",
   "metadata": {},
   "outputs": [],
   "source": [
    "def get_budget(info_list):\n",
    "    print(\"Information:\\n\",info_list)\n",
    "    sum = 0\n",
    "    for i in info_list:\n",
    "        sum += int(i[\"budget\"])\n",
    "    return sum"
   ]
  },
  {
   "cell_type": "code",
   "execution_count": 15,
   "id": "ea312d07",
   "metadata": {},
   "outputs": [
    {
     "name": "stdout",
     "output_type": "stream",
     "text": [
      "Enter the Number of Entries: 3\n",
      "Enter Name, Age, and Budget Separeted by Space:\n",
      "John 21 29000\n",
      "Enter Name, Age, and Budget Separeted by Space:\n",
      "Steve 32 32000\n",
      "Enter Name, Age, and Budget Separeted by Space:\n",
      "Martin 16 1600\n",
      "Information:\n",
      " [{'name': 'John', 'age': '21', 'budget': '29000'}, {'name': 'Steve', 'age': '32', 'budget': '32000'}, {'name': 'Martin', 'age': '16', 'budget': '1600'}]\n",
      "Total Budget: 62600\n"
     ]
    }
   ],
   "source": [
    "info_list = list()\n",
    "count = int(input(\"Enter the Number of Entries: \"))\n",
    "for i in range(count):\n",
    "    infos = input(\"Enter Name, Age, and Budget Separeted by Space:\\n\").split()\n",
    "    key = [\"name\",\"age\",\"budget\"]\n",
    "    info_list.append(dict(zip(key,infos)))\n",
    "print(\"Total Budget:\",get_budget(info_list))"
   ]
  },
  {
   "cell_type": "markdown",
   "id": "f08c4df6",
   "metadata": {},
   "source": [
    "### Question 3\n",
    "#### Create a function that takes a string and returns a string with its letters in alphabetical order.\n",
    "### Examples\n",
    "#### alphabet_soup(\"hello\") ➞ \"ehllo\"\n",
    "#### alphabet_soup(\"edabit\") ➞ \"abdeit\"\n",
    "#### alphabet_soup(\"hacker\") ➞ \"acehkr\"\n",
    "#### alphabet_soup(\"geek\") ➞ \"eegk\"\n",
    "#### alphabet_soup(\"javascript\") ➞ \"aacijprstv\""
   ]
  },
  {
   "cell_type": "code",
   "execution_count": 10,
   "id": "cf8f3240",
   "metadata": {},
   "outputs": [],
   "source": [
    "def alphabet_soup(string):\n",
    "    return sorted(string)"
   ]
  },
  {
   "cell_type": "code",
   "execution_count": 13,
   "id": "c96a43ea",
   "metadata": {},
   "outputs": [
    {
     "name": "stdout",
     "output_type": "stream",
     "text": [
      "Enter a String: javascript\n",
      "Actual String:  javascript\n",
      "Alphabetically Orderd Maintained String:  aacijprstv\n"
     ]
    }
   ],
   "source": [
    "word = input(\"Enter a String: \")\n",
    "print(\"Actual String: \",word)\n",
    "print(\"Alphabetically Orderd Maintained String: \",\"\".join(alphabet_soup(word)))"
   ]
  },
  {
   "cell_type": "markdown",
   "id": "8e28156b",
   "metadata": {},
   "source": [
    "### Question 4\n",
    "#### Suppose that you invest $10,000 for 10 years at an interest rate of 6% compounded monthly. What will be the value of your investment at the end of the 10 year period? Create a function that accepts the principal p, the term in years t, the interest rate r, and the number of compounding periods per year n. The function returns the value at the end of term rounded to the nearest cent.\n",
    "### Examples\n",
    "#### compound_interest(10000, 10, 0.06, 12) ➞ 18193.97\n",
    "#### compound_interest(100, 1, 0.05, 1) ➞ 105.0\n",
    "#### compound_interest(3500, 15, 0.1, 4) ➞ 15399.26\n",
    "#### compound_interest(100000, 20, 0.15, 365) ➞ 2007316.26\n",
    "#### Note that the interest rate is given as a decimal and n=12 because with monthly compounding there are 12 periods per year. Compounding can also be done annually, quarterly, weekly, or daily."
   ]
  },
  {
   "cell_type": "code",
   "execution_count": 16,
   "id": "4650086b",
   "metadata": {},
   "outputs": [],
   "source": [
    "def compound_interest(P,t,r,n):\n",
    "    return P*((1 + r/n))**(n * t)"
   ]
  },
  {
   "cell_type": "code",
   "execution_count": 19,
   "id": "f0b204bb",
   "metadata": {},
   "outputs": [
    {
     "name": "stdout",
     "output_type": "stream",
     "text": [
      "Enter Principal,Years,Interest Rate and Compounding Periods Separeted by Space:\n",
      "100000 20 0.15 365\n",
      "Compound Interest: 2007316.26\n"
     ]
    }
   ],
   "source": [
    "p,t,r,n = tuple(map(float,input(\"Enter Principal,Years,Interest Rate and Compounding Periods Separeted by Space:\\n\").split()))\n",
    "print(\"Compound Interest: {0:.2f}\".format(compound_interest(p,t,r,n)))"
   ]
  },
  {
   "cell_type": "markdown",
   "id": "c42528c2",
   "metadata": {},
   "source": [
    "### Question 5\n",
    "#### Write a function that takes a list of elements and returns only the integers.\n",
    "### Examples\n",
    "#### return_only_integer([9, 2, \"space\", \"car\", \"lion\", 16]) ➞ [9, 2, 16]\n",
    "#### return_only_integer([\"hello\", 81, \"basketball\", 123, \"fox\"]) ➞ [81, 123]\n",
    "#### return_only_integer([10, \"121\", 56, 20, \"car\", 3, \"lion\"]) ➞ [10, 56, 20, 3]\n",
    "#### return_only_integer([\"String\",  True,  3.3,  1]) ➞ [1]"
   ]
  },
  {
   "cell_type": "code",
   "execution_count": 25,
   "id": "2eb46d67",
   "metadata": {},
   "outputs": [],
   "source": [
    "def return_only_integer(list1):\n",
    "    print(\"Actual List:\\n\",list1)\n",
    "    filtered = list()\n",
    "    for i in list1:\n",
    "        try:\n",
    "            filtered.append(int(i))\n",
    "        except ValueError:\n",
    "            continue\n",
    "    return filtered"
   ]
  },
  {
   "cell_type": "code",
   "execution_count": 27,
   "id": "623b49d7",
   "metadata": {},
   "outputs": [
    {
     "name": "stdout",
     "output_type": "stream",
     "text": [
      "Enter a List of Elements Separeted by Space:\n",
      "String True 3.3 1\n",
      "Actual List:\n",
      " ['String', 'True', '3.3', '1']\n",
      "Filtered Integer List:\n",
      " [1]\n"
     ]
    }
   ],
   "source": [
    "ip_list = input(\"Enter a List of Elements Separeted by Space:\\n\").split()\n",
    "print(\"Filtered Integer List:\\n\",return_only_integer(ip_list))"
   ]
  }
 ],
 "metadata": {
  "kernelspec": {
   "display_name": "Python 3 (ipykernel)",
   "language": "python",
   "name": "python3"
  },
  "language_info": {
   "codemirror_mode": {
    "name": "ipython",
    "version": 3
   },
   "file_extension": ".py",
   "mimetype": "text/x-python",
   "name": "python",
   "nbconvert_exporter": "python",
   "pygments_lexer": "ipython3",
   "version": "3.9.7"
  }
 },
 "nbformat": 4,
 "nbformat_minor": 5
}
