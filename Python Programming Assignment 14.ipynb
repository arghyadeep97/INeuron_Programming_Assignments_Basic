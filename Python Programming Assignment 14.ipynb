{
 "cells": [
  {
   "cell_type": "markdown",
   "id": "d0f33179",
   "metadata": {},
   "source": [
    "# Python Programming Assignment 14"
   ]
  },
  {
   "cell_type": "markdown",
   "id": "5a35be72",
   "metadata": {},
   "source": [
    "### Question 1:\n",
    "#### Define a class with a generator which can iterate the numbers, which are divisible by 7, between a given range 0 and n."
   ]
  },
  {
   "cell_type": "code",
   "execution_count": 3,
   "id": "75504d99",
   "metadata": {},
   "outputs": [],
   "source": [
    "class Generator7:\n",
    "    def __init__(self,n):\n",
    "        self.max = n\n",
    "    def genbyseven(self):\n",
    "        for i in range(self.max+1):\n",
    "            if i%7 == 0:\n",
    "                yield i"
   ]
  },
  {
   "cell_type": "code",
   "execution_count": 4,
   "id": "f808ac2a",
   "metadata": {},
   "outputs": [
    {
     "name": "stdout",
     "output_type": "stream",
     "text": [
      "0,7,14,21,28,35,42,49,56,63,70,77,84,91,98,"
     ]
    }
   ],
   "source": [
    "obj = Generator7(100)\n",
    "for i in obj.genbyseven():\n",
    "    print(i,end = \",\")"
   ]
  },
  {
   "cell_type": "markdown",
   "id": "ada69887",
   "metadata": {},
   "source": [
    "### Question 2:\n",
    "#### Write a program to compute the frequency of the words from the input. The output should output after sorting the key alphanumerically.\n",
    "#### Suppose the following input is supplied to the program:\n",
    "#### New to Python or choosing between Python 2 and Python 3? Read Python 2 or Python 3.\n",
    "#### Then, the output should be:\n",
    "#### 2:2\n",
    "#### 3.:1\n",
    "#### 3?:1\n",
    "#### New:1\n",
    "#### Python:5\n",
    "#### Read:1\n",
    "#### and:1\n",
    "#### between:1\n",
    "#### choosing:1\n",
    "#### or:2\n",
    "#### to:1"
   ]
  },
  {
   "cell_type": "code",
   "execution_count": 7,
   "id": "7fca4e77",
   "metadata": {},
   "outputs": [
    {
     "name": "stdout",
     "output_type": "stream",
     "text": [
      "New to Python or choosing between Python 2 and Python 3? Read Python 2 or Python 3.\n",
      "Frequency of Words:\n",
      "2:2\n",
      "3.:1\n",
      "3?:1\n",
      "New:1\n",
      "Python:5\n",
      "Read:1\n",
      "and:1\n",
      "between:1\n",
      "choosing:1\n",
      "or:2\n",
      "to:1\n"
     ]
    }
   ],
   "source": [
    "sentence = input().split()\n",
    "unique_words = list(set(sentence))\n",
    "print(\"Frequency of Words:\")\n",
    "for i in sorted(unique_words):\n",
    "    print(\"{}:{}\".format(i,sentence.count(i)))"
   ]
  },
  {
   "cell_type": "markdown",
   "id": "a9a40e16",
   "metadata": {},
   "source": [
    "### Question 3:\n",
    "#### Define a class Person and its two child classes: Male and Female. All classes have a method \"getGender\" which can print \"Male\" for Male class and \"Female\" for Female class."
   ]
  },
  {
   "cell_type": "code",
   "execution_count": 12,
   "id": "df016da1",
   "metadata": {},
   "outputs": [
    {
     "name": "stdout",
     "output_type": "stream",
     "text": [
      "Male\n",
      "Female\n"
     ]
    }
   ],
   "source": [
    "class Person(object):\n",
    "    def getGender( self ):\n",
    "        return \"None\"\n",
    "class Male( Person ):\n",
    "    def getGender( self ):\n",
    "        return \"Male\"\n",
    "class Female( Person ):\n",
    "    def getGender( self ):\n",
    "        return \"Female\"\n",
    "\n",
    "ob_male = Male()\n",
    "ob_female= Female()\n",
    "print(ob_male.getGender())\n",
    "print(ob_female.getGender())"
   ]
  },
  {
   "cell_type": "markdown",
   "id": "71df54f5",
   "metadata": {},
   "source": [
    "### Question 4:\n",
    "#### Please write a program to generate all sentences where subject is in [\"I\", \"You\"] and verb is in [\"Play\", \"Love\"] and the object is in [\"Hockey\",\"Football\"]."
   ]
  },
  {
   "cell_type": "code",
   "execution_count": 8,
   "id": "df4bd644",
   "metadata": {},
   "outputs": [
    {
     "name": "stdout",
     "output_type": "stream",
     "text": [
      "I Play Hockey\n",
      "I Play Football\n",
      "I Love Hockey\n",
      "I Love Football\n",
      "You Play Hockey\n",
      "You Play Football\n",
      "You Love Hockey\n",
      "You Love Football\n"
     ]
    }
   ],
   "source": [
    "subjects,verbs,objects = [\"I\",\"You\"],[\"Play\",\"Love\"],[\"Hockey\",\"Football\"]\n",
    "for subject in subjects:\n",
    "    for verb in verbs:\n",
    "        for objectl in objects:\n",
    "            print(subject + \" \" + verb + \" \" + objectl)"
   ]
  },
  {
   "cell_type": "markdown",
   "id": "2867c567",
   "metadata": {},
   "source": [
    "### Question 5:\n",
    "#### Please write a program to compress and decompress the string \"hello world!hello world!hello world!hello world!\"\n"
   ]
  },
  {
   "cell_type": "code",
   "execution_count": 6,
   "id": "e53e0197",
   "metadata": {},
   "outputs": [
    {
     "name": "stdout",
     "output_type": "stream",
     "text": [
      "Enter the String: hello world!hello world!hello world!hello world!\n",
      "Size of Given String:  48\n",
      "Compressed String:  b'x\\x9c\\xcbH\\xcd\\xc9\\xc9W(\\xcf/\\xcaIQ\\xcc \\x82\\r\\x00\\xbd[\\x11\\xf5'\n",
      "Size of Compressed String:  23\n",
      "Decompressed String:  b'hello world!hello world!hello world!hello world!'\n",
      "Size of Decompressed String:  48\n"
     ]
    }
   ],
   "source": [
    "from zlib import compress,decompress\n",
    "string = input(\"Enter the String: \")\n",
    "b_string = bytes(string,'utf-8')\n",
    "print(\"Size of Given String: \",len(b_string))\n",
    "print(\"Compressed String: \",compress(b_string))\n",
    "print(\"Size of Compressed String: \",len(compress(b_string)))\n",
    "print(\"Decompressed String: \",decompress(compress(b_string)))\n",
    "print(\"Size of Decompressed String: \",len(decompress(compress(b_string))))"
   ]
  },
  {
   "cell_type": "markdown",
   "id": "b178e683",
   "metadata": {},
   "source": [
    "### Question 6:\n",
    "#### Please write a binary search function which searches an item in a sorted list. The function should return the index of element to be searched in the list.\n"
   ]
  },
  {
   "cell_type": "code",
   "execution_count": 7,
   "id": "9d31f841",
   "metadata": {},
   "outputs": [],
   "source": [
    "from bisect import bisect_left\n",
    "def BinarySearch(a, x):\n",
    "    i = bisect_left(a, x)\n",
    "    if i != len(a) and a[i] == x:\n",
    "        return i\n",
    "    else:\n",
    "        return -1"
   ]
  },
  {
   "cell_type": "code",
   "execution_count": 11,
   "id": "567d8a9c",
   "metadata": {},
   "outputs": [
    {
     "name": "stdout",
     "output_type": "stream",
     "text": [
      "Enter The List: 1 3 5 7 8 9 10 12 15 16\n",
      "Enter Search Element: 12\n",
      "Index of the Element is: 7\n"
     ]
    }
   ],
   "source": [
    "list1 = list(map(int,input('Enter The List: ').split()))\n",
    "search = int(input('Enter Search Element: '))\n",
    "x = BinarySearch(list1,search)\n",
    "if x!= -1:\n",
    "    print(\"Index of the Element is:\",x)\n",
    "else:\n",
    "    print(\"Element Not Found!\")"
   ]
  }
 ],
 "metadata": {
  "kernelspec": {
   "display_name": "Python 3 (ipykernel)",
   "language": "python",
   "name": "python3"
  },
  "language_info": {
   "codemirror_mode": {
    "name": "ipython",
    "version": 3
   },
   "file_extension": ".py",
   "mimetype": "text/x-python",
   "name": "python",
   "nbconvert_exporter": "python",
   "pygments_lexer": "ipython3",
   "version": "3.9.7"
  }
 },
 "nbformat": 4,
 "nbformat_minor": 5
}
