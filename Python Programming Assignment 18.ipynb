{
 "cells": [
  {
   "cell_type": "markdown",
   "id": "dd99660d",
   "metadata": {},
   "source": [
    "# Python Programming Assignment 18"
   ]
  },
  {
   "cell_type": "markdown",
   "id": "d11dd0c3",
   "metadata": {},
   "source": [
    "### Question 1\n",
    "#### Create a function that takes a list of non-negative integers and strings and return a new list without the strings.\n",
    "### Examples\n",
    "#### filter_list([1, 2, \"a\", \"b\"]) ➞ [1, 2]\n",
    "#### filter_list([1, \"a\", \"b\", 0, 15]) ➞ [1, 0, 15]\n",
    "#### filter_list([1, 2, \"aasf\", \"1\", \"123\", 123]) ➞ [1, 2, 123]"
   ]
  },
  {
   "cell_type": "code",
   "execution_count": 1,
   "id": "a017714f",
   "metadata": {},
   "outputs": [],
   "source": [
    "def filter_list(list1):\n",
    "    print(\"Actual List:\\n\",list1)\n",
    "    filtered = list()\n",
    "    for i in list1:\n",
    "        try:\n",
    "            filtered.append(int(i))\n",
    "        except ValueError:\n",
    "            continue\n",
    "    return filtered"
   ]
  },
  {
   "cell_type": "code",
   "execution_count": 2,
   "id": "bd984eb4",
   "metadata": {},
   "outputs": [
    {
     "name": "stdout",
     "output_type": "stream",
     "text": [
      "Enter a List of Elements Separeted by Space:\n",
      "1 2 \"aasf\" \"1\" \"123\" 123\n",
      "Actual List:\n",
      " ['1', '2', '\"aasf\"', '\"1\"', '\"123\"', '123']\n",
      "Filtered Integer List:\n",
      " [1, 2, 123]\n"
     ]
    }
   ],
   "source": [
    "ip_list = input(\"Enter a List of Elements Separeted by Space:\\n\").split()\n",
    "print(\"Filtered Integer List:\\n\",filter_list(ip_list))"
   ]
  },
  {
   "cell_type": "markdown",
   "id": "63201614",
   "metadata": {},
   "source": [
    "### Question 2\n",
    "#### The \"Reverser\" takes a string as input and returns that string in reverse order, with the opposite case.\n",
    "### Examples\n",
    "#### reverse(\"Hello World\") ➞ \"DLROw OLLEh\"\n",
    "#### reverse(\"ReVeRsE\") ➞ \"eSrEvEr\"\n",
    "#### reverse(\"Radar\") ➞ \"RADAr\""
   ]
  },
  {
   "cell_type": "code",
   "execution_count": 3,
   "id": "9542aef2",
   "metadata": {},
   "outputs": [
    {
     "name": "stdout",
     "output_type": "stream",
     "text": [
      "Enter a String: ReVeRsE\n",
      "eSrEvEr\n"
     ]
    }
   ],
   "source": [
    "string = input(\"Enter a String: \")\n",
    "print(string.swapcase()[::-1])"
   ]
  },
  {
   "cell_type": "markdown",
   "id": "686c6d52",
   "metadata": {},
   "source": [
    "### Question 3\n",
    "#### You can assign variables from lists like this:\n",
    "#### lst = [1, 2, 3, 4, 5, 6]\n",
    "#### first = lst[0]\n",
    "#### middle = lst[1:-1]\n",
    "#### last = lst[-1]\n",
    "\n",
    "#### print(first) ➞ outputs 1\n",
    "#### print(middle) ➞ outputs [2, 3, 4, 5]\n",
    "#### print(last) ➞ outputs 6\n",
    "#### With Python 3, you can assign variables from lists in a much more succinct way. Create variables first, middle and last from the given list using destructuring assignment (check the Resources tab for some examples), where:\n",
    "#### first  ➞ 1\n",
    "\n",
    "#### middle ➞ [2, 3, 4, 5]\n",
    "\n",
    "#### last ➞ 6\n",
    "#### Your task is to unpack the list writeyourcodehere into three variables, being first, middle, and last, with middle being everything in between the first and last element. Then print all three variables."
   ]
  },
  {
   "cell_type": "code",
   "execution_count": 5,
   "id": "062bcd64",
   "metadata": {},
   "outputs": [
    {
     "name": "stdout",
     "output_type": "stream",
     "text": [
      "1\n",
      "[2, 3, 4, 5]\n",
      "6\n"
     ]
    }
   ],
   "source": [
    "#Taking the List\n",
    "lst = [1,2,3,4,5,6]\n",
    "# Creating the First,Middle,Last Variable\n",
    "first = lst[0]\n",
    "middle = lst[1:-1]\n",
    "last = lst[-1]\n",
    "#Print as defined in Problem Statement\n",
    "print(first)\n",
    "print(middle)\n",
    "print(last)"
   ]
  },
  {
   "cell_type": "markdown",
   "id": "80964b47",
   "metadata": {},
   "source": [
    "### Question 4\n",
    "#### Write a function that calculates the factorial of a number recursively.\n",
    "### Examples\n",
    "#### factorial(5) ➞ 120\n",
    "#### factorial(3) ➞ 6\n",
    "#### factorial(1) ➞ 1\n",
    "#### factorial(0) ➞ 1"
   ]
  },
  {
   "cell_type": "code",
   "execution_count": 1,
   "id": "b262c80d",
   "metadata": {},
   "outputs": [],
   "source": [
    "def factorial(n):\n",
    "    if n == 1 or n == 0:\n",
    "        return 1\n",
    "    else:\n",
    "        return n * factorial(n-1)"
   ]
  },
  {
   "cell_type": "code",
   "execution_count": 2,
   "id": "209c1038",
   "metadata": {},
   "outputs": [
    {
     "name": "stdout",
     "output_type": "stream",
     "text": [
      "Enter a Number: 5\n",
      "Factorial is: 120\n"
     ]
    }
   ],
   "source": [
    "num = int(input(\"Enter a Number: \"))\n",
    "print(\"Factorial is:\",factorial(num))"
   ]
  },
  {
   "cell_type": "markdown",
   "id": "aecb1472",
   "metadata": {},
   "source": [
    "### Question 5\n",
    "#### Write a function that moves all elements of one type to the end of the list.\n",
    "### Examples\n",
    "#### move_to_end([1, 3, 2, 4, 4, 1], 1) ➞ [3, 2, 4, 4, 1, 1]\n",
    "#### Move all the 1s to the end of the array.\n",
    "#### move_to_end([7, 8, 9, 1, 2, 3, 4], 9) ➞ [7, 8, 1, 2, 3, 4, 9]\n",
    "#### move_to_end([\"a\", \"a\", \"a\", \"b\"], \"a\") ➞ [\"b\", \"a\", \"a\", \"a\"]"
   ]
  },
  {
   "cell_type": "code",
   "execution_count": 12,
   "id": "d4141c0e",
   "metadata": {},
   "outputs": [],
   "source": [
    "def move_to_end(lst1,element):\n",
    "    \n",
    "    for i in range(lst1.count(element)):\n",
    "        lst1.remove(element)\n",
    "        lst1.append(element)\n",
    "    return lst"
   ]
  },
  {
   "cell_type": "code",
   "execution_count": 14,
   "id": "27ce45a3",
   "metadata": {},
   "outputs": [
    {
     "name": "stdout",
     "output_type": "stream",
     "text": [
      "Enter a List, Elements are Space Separeted:\n",
      "1 3 2 4 4 1\n",
      "Enter the Element to be Moved at Last: 1\n",
      "After Move Operation:  ['3', '2', '4', '4', '1', '1']\n"
     ]
    }
   ],
   "source": [
    "lst = input(\"Enter a List, Elements are Space Separeted:\\n\").split()\n",
    "elemt = input(\"Enter the Element to be Moved at Last: \")\n",
    "print(\"After Move Operation: \",move_to_end(lst,elemt))"
   ]
  }
 ],
 "metadata": {
  "kernelspec": {
   "display_name": "Python 3 (ipykernel)",
   "language": "python",
   "name": "python3"
  },
  "language_info": {
   "codemirror_mode": {
    "name": "ipython",
    "version": 3
   },
   "file_extension": ".py",
   "mimetype": "text/x-python",
   "name": "python",
   "nbconvert_exporter": "python",
   "pygments_lexer": "ipython3",
   "version": "3.9.7"
  }
 },
 "nbformat": 4,
 "nbformat_minor": 5
}
