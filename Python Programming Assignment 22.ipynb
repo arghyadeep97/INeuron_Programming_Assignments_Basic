{
 "cells": [
  {
   "cell_type": "markdown",
   "id": "f83cd4f8",
   "metadata": {},
   "source": [
    "# Python Programming Assignment 22"
   ]
  },
  {
   "cell_type": "markdown",
   "id": "b540c503",
   "metadata": {},
   "source": [
    "### Question 1\n",
    "#### Create a function that takes three parameters where:\n",
    "#### x is the start of the range (inclusive).\n",
    "#### y is the end of the range (inclusive).\n",
    "#### n is the divisor to be checked against.\n",
    "#### Return an ordered list with numbers in the range that are divisible by the third parameter n. Return an empty list if there are no numbers that are divisible by n.\n",
    "### Examples\n",
    "#### List_operation(1, 10, 3) ➞ [3, 6, 9]\n",
    "#### List_operation(7, 9, 2) ➞ [8]\n",
    "#### List_operation(15, 20, 7) ➞ []"
   ]
  },
  {
   "cell_type": "code",
   "execution_count": 4,
   "id": "32714f1b",
   "metadata": {},
   "outputs": [],
   "source": [
    "def List_Operation(x,y,n):\n",
    "    op_list = [i for i in range(x,y) if i%n == 0]\n",
    "    return op_list"
   ]
  },
  {
   "cell_type": "code",
   "execution_count": 7,
   "id": "4e2ffa08",
   "metadata": {},
   "outputs": [
    {
     "name": "stdout",
     "output_type": "stream",
     "text": [
      "Enter Start,End and Divisor Separeted by Space:\n",
      "1 10 3\n",
      "[3, 6, 9]\n"
     ]
    }
   ],
   "source": [
    "x,y,z = tuple(map(int,input(\"Enter Start,End and Divisor Separeted by Space:\\n\").split()))\n",
    "print(List_Operation(x,y,z))"
   ]
  },
  {
   "cell_type": "markdown",
   "id": "44737cc6",
   "metadata": {},
   "source": [
    "### Question 2\n",
    "#### Create a function that takes in two lists and returns True if the second list follows the first list by one element, and False otherwise. In other words, determine if the second list is the first list shifted to the right by 1.\n",
    "### Examples\n",
    "#### simon_says([1, 2], [5, 1]) ➞ True\n",
    "#### simon_says([1, 2], [5, 5]) ➞ False\n",
    "#### simon_says([1, 2, 3, 4, 5], [0, 1, 2, 3, 4]) ➞ True\n",
    "#### simon_says([1, 2, 3, 4, 5], [5, 5, 1, 2, 3]) ➞ False\n",
    "### Notes\n",
    "#### Both input lists will be of the same length, and will have a minimum length of 2.\n",
    "#### The values of the 0-indexed element in the second list and the n-1th indexed element in the first list do not matter."
   ]
  },
  {
   "cell_type": "code",
   "execution_count": 8,
   "id": "554e050c",
   "metadata": {},
   "outputs": [],
   "source": [
    "def simon_says(list1,list2):\n",
    "    if list1[:-1] == list2[1:]:\n",
    "        return True\n",
    "    else:\n",
    "        return False"
   ]
  },
  {
   "cell_type": "code",
   "execution_count": 10,
   "id": "f82c6d78",
   "metadata": {},
   "outputs": [
    {
     "name": "stdout",
     "output_type": "stream",
     "text": [
      "Enter the First List Space Separeted: 1 2 3 4 5\n",
      "Enter the Second List Space Separeted: 5 5 1 2 3\n",
      "False\n"
     ]
    }
   ],
   "source": [
    "list1 = list(map(int,input(\"Enter the First List Space Separeted: \").split()))\n",
    "list2 = list(map(int,input(\"Enter the Second List Space Separeted: \").split()))\n",
    "print(simon_says(list1,list2))"
   ]
  },
  {
   "cell_type": "markdown",
   "id": "083c2236",
   "metadata": {},
   "source": [
    "### Question 3\n",
    "#### A group of friends have decided to start a secret society. The name will be the first letter of each of their names, sorted in alphabetical order.\n",
    "#### Create a function that takes in a list of names and returns the name of the secret society.\n",
    "### Examples\n",
    "#### society_name([\"Adam\", \"Sarah\", \"Malcolm\"]) ➞ \"AMS\"\n",
    "#### society_name([\"Harry\", \"Newt\", \"Luna\", \"Cho\"]) ➞ \"CHLN\"\n",
    "#### society_name([\"Phoebe\", \"Chandler\", \"Rachel\", \"Ross\", \"Monica\", \"Joey\"])"
   ]
  },
  {
   "cell_type": "code",
   "execution_count": 14,
   "id": "3e08b5ca",
   "metadata": {},
   "outputs": [],
   "source": [
    "def society_name(name_list):\n",
    "    temp_name = sorted([x[0] for x in name_list])\n",
    "    return \"\".join(temp_name)"
   ]
  },
  {
   "cell_type": "code",
   "execution_count": 16,
   "id": "a415cb73",
   "metadata": {},
   "outputs": [
    {
     "name": "stdout",
     "output_type": "stream",
     "text": [
      "Enter the Names Separeted by Space:\n",
      "Phoebe Chandler Rachel Ross Monica Joey\n",
      "Secret Society:  CJMPRR\n"
     ]
    }
   ],
   "source": [
    "name_list = input(\"Enter the Names Separeted by Space:\\n\").split()\n",
    "print(\"Secret Society: \",society_name(name_list))"
   ]
  },
  {
   "cell_type": "markdown",
   "id": "12b7dbfb",
   "metadata": {},
   "source": [
    "### Question 4\n",
    "#### An isogram is a word that has no duplicate letters. Create a function that takes a string and returns either True or False depending on whether or not it's an \"isogram\".\n",
    "### Examples\n",
    "#### is_isogram(\"Algorism\") ➞ True\n",
    "#### is_isogram(\"PasSword\") ➞ False\n",
    "### Not case sensitive.\n",
    "#### is_isogram(\"Consecutive\") ➞ False\n",
    "### Notes\n",
    "#### Ignore letter case (should not be case sensitive).\n",
    "#### All test cases contain valid one word strings.\n"
   ]
  },
  {
   "cell_type": "code",
   "execution_count": 15,
   "id": "dc6bc1a8",
   "metadata": {},
   "outputs": [],
   "source": [
    "def is_isogram(word):\n",
    "    temp = sorted(list(word))\n",
    "    remove_dups = sorted(list(set(temp)))\n",
    "    if \"\".join(temp).lower() == \"\".join(remove_dups).lower():\n",
    "        return True\n",
    "    else:\n",
    "        return False"
   ]
  },
  {
   "cell_type": "code",
   "execution_count": 16,
   "id": "5923a4d0",
   "metadata": {},
   "outputs": [
    {
     "name": "stdout",
     "output_type": "stream",
     "text": [
      "Enter a Word: Algorithm\n",
      "True\n"
     ]
    }
   ],
   "source": [
    "ip_string = input(\"Enter a Word: \")\n",
    "print(is_isogram(ip_string))"
   ]
  },
  {
   "cell_type": "markdown",
   "id": "6c5a14ce",
   "metadata": {},
   "source": [
    "### Question 5\n",
    "#### Create a function that takes a string and returns True or False, depending on whether the characters are in order or not.\n",
    "### Examples\n",
    "#### is_in_order(\"abc\") ➞ True\n",
    "#### is_in_order(\"edabit\") ➞ False\n",
    "#### is_in_order(\"123\") ➞ True\n",
    "#### is_in_order(\"xyzz\") ➞ True\n",
    "### Notes\n",
    "#### You don't have to handle empty strings."
   ]
  },
  {
   "cell_type": "code",
   "execution_count": 19,
   "id": "9758105d",
   "metadata": {},
   "outputs": [],
   "source": [
    "def is_in_order(string):\n",
    "    if list(string) == sorted(string):\n",
    "        return True\n",
    "    else:\n",
    "        return False"
   ]
  },
  {
   "cell_type": "code",
   "execution_count": 22,
   "id": "3db437e9",
   "metadata": {},
   "outputs": [
    {
     "name": "stdout",
     "output_type": "stream",
     "text": [
      "Enter a String: edabit\n",
      "False\n"
     ]
    }
   ],
   "source": [
    "string = input(\"Enter a String: \")\n",
    "print(is_in_order(string))"
   ]
  }
 ],
 "metadata": {
  "kernelspec": {
   "display_name": "Python 3 (ipykernel)",
   "language": "python",
   "name": "python3"
  },
  "language_info": {
   "codemirror_mode": {
    "name": "ipython",
    "version": 3
   },
   "file_extension": ".py",
   "mimetype": "text/x-python",
   "name": "python",
   "nbconvert_exporter": "python",
   "pygments_lexer": "ipython3",
   "version": "3.9.7"
  }
 },
 "nbformat": 4,
 "nbformat_minor": 5
}
