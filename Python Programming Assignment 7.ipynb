{
 "cells": [
  {
   "cell_type": "markdown",
   "id": "7e8cc9fe",
   "metadata": {},
   "source": [
    "# Python Programming Assignment 7"
   ]
  },
  {
   "cell_type": "markdown",
   "id": "7c07fcd2",
   "metadata": {},
   "source": [
    "### 1. Write a Python Program to find sum of array?"
   ]
  },
  {
   "cell_type": "code",
   "execution_count": 6,
   "id": "2eac0702",
   "metadata": {},
   "outputs": [
    {
     "name": "stdout",
     "output_type": "stream",
     "text": [
      "Enter a List separeted by space:\n",
      "6 7 4 3 12 8\n",
      "Sum of the Array is:  40\n"
     ]
    }
   ],
   "source": [
    "arr1 = list(map(int,input(\"Enter a List separeted by space:\\n\").split()))\n",
    "print(\"Sum of the Array is: \",sum(arr1))"
   ]
  },
  {
   "cell_type": "markdown",
   "id": "ff499bcd",
   "metadata": {},
   "source": [
    "### 2. Write a Python Program to find largest element in an array?"
   ]
  },
  {
   "cell_type": "code",
   "execution_count": 7,
   "id": "5a2177e1",
   "metadata": {},
   "outputs": [
    {
     "name": "stdout",
     "output_type": "stream",
     "text": [
      "Enter a List separeted by space:\n",
      "8 5 3 12 9\n",
      "Largest Element is: 12\n"
     ]
    }
   ],
   "source": [
    "arr1 = list(map(int,input(\"Enter a List separeted by space:\\n\").split()))\n",
    "print(\"Largest Element is:\",max(arr1))"
   ]
  },
  {
   "cell_type": "markdown",
   "id": "c1d51950",
   "metadata": {},
   "source": [
    "### 3. Write a Python Program for array rotation?"
   ]
  },
  {
   "cell_type": "code",
   "execution_count": 10,
   "id": "f84049fd",
   "metadata": {
    "scrolled": true
   },
   "outputs": [
    {
     "name": "stdout",
     "output_type": "stream",
     "text": [
      "Enter a List separeted by space:\n",
      "8 5 3 12 9 4 6 11 19 7\n",
      "Actual Array:\n",
      " [8, 5, 3, 12, 9, 4, 6, 11, 19, 7]\n",
      "Enter how many times you want to rotate: 3\n",
      "Rotated Array:\n",
      " [12, 9, 4, 6, 11, 19, 7, 8, 5, 3]\n"
     ]
    }
   ],
   "source": [
    "arr1 = list(map(int,input(\"Enter a List separeted by space:\\n\").split()))\n",
    "print(\"Actual Array:\\n\",arr1)\n",
    "rotate = int(input(\"Enter how many times you want to rotate: \"))\n",
    "for i in range(rotate):\n",
    "    arr1 = arr1[1:] +[arr1[0]]\n",
    "print(\"Rotated Array:\\n\",arr1)"
   ]
  },
  {
   "cell_type": "markdown",
   "id": "b8267104",
   "metadata": {},
   "source": [
    "### 4. Write a Python Program to Split the array and add the first part to the end?"
   ]
  },
  {
   "cell_type": "code",
   "execution_count": 13,
   "id": "21762739",
   "metadata": {},
   "outputs": [
    {
     "name": "stdout",
     "output_type": "stream",
     "text": [
      "Enter a List separeted by space:\n",
      "8 5 3 12 9 4 6 11 19 7\n",
      "Actual Array:\n",
      " [8, 5, 3, 12, 9, 4, 6, 11, 19, 7]\n",
      "After split and add: \n",
      "[4, 6, 11, 19, 7, 8, 5, 3, 12, 9]\n"
     ]
    }
   ],
   "source": [
    "arr1 = list(map(int,input(\"Enter a List separeted by space:\\n\").split()))\n",
    "print(\"Actual Array:\\n\",arr1)\n",
    "print(\"After split and add: \")\n",
    "print(arr1[len(arr1)//2:] + arr1[:len(arr1)//2])"
   ]
  },
  {
   "cell_type": "markdown",
   "id": "c724dc04",
   "metadata": {},
   "source": [
    "### 5. Write a Python Program to check if given array is Monotonic?"
   ]
  },
  {
   "cell_type": "code",
   "execution_count": 16,
   "id": "0706a078",
   "metadata": {
    "scrolled": true
   },
   "outputs": [
    {
     "name": "stdout",
     "output_type": "stream",
     "text": [
      "Enter a List separeted by space:\n",
      "8 5 3 12 9 4 6 11 19 7\n",
      "Given Array is not Monotonic\n"
     ]
    }
   ],
   "source": [
    "arr1 = list(map(int,input(\"Enter a List separeted by space:\\n\").split()))\n",
    "if sorted(arr1) == arr1 or sorted(arr1,reverse = True) == arr1:\n",
    "    print(\"Given Array is Monotonic\")\n",
    "else:\n",
    "    print(\"Given Array is not Monotonic\")"
   ]
  }
 ],
 "metadata": {
  "kernelspec": {
   "display_name": "Python 3 (ipykernel)",
   "language": "python",
   "name": "python3"
  },
  "language_info": {
   "codemirror_mode": {
    "name": "ipython",
    "version": 3
   },
   "file_extension": ".py",
   "mimetype": "text/x-python",
   "name": "python",
   "nbconvert_exporter": "python",
   "pygments_lexer": "ipython3",
   "version": "3.9.7"
  }
 },
 "nbformat": 4,
 "nbformat_minor": 5
}
