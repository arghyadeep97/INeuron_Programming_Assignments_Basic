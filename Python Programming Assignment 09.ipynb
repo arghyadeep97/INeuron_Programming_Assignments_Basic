{
 "cells": [
  {
   "cell_type": "markdown",
   "id": "4caaba86",
   "metadata": {},
   "source": [
    "# Python Programming Assignment 9"
   ]
  },
  {
   "cell_type": "markdown",
   "id": "9c256035",
   "metadata": {},
   "source": [
    "### 1. Write a Python program to check if the given number is a Disarium Number?"
   ]
  },
  {
   "cell_type": "code",
   "execution_count": 1,
   "id": "c452159c",
   "metadata": {},
   "outputs": [],
   "source": [
    "def disarium(num):\n",
    "    temp,temp_sum = list(map(int,list(num))),0\n",
    "    for i,j in enumerate(temp,1):\n",
    "        temp_sum += j**i\n",
    "    if str(temp_sum) == num:\n",
    "        return 1\n",
    "    else:\n",
    "        return 0"
   ]
  },
  {
   "cell_type": "code",
   "execution_count": 2,
   "id": "a8c4a960",
   "metadata": {},
   "outputs": [
    {
     "name": "stdout",
     "output_type": "stream",
     "text": [
      "Enter a Number: 175\n",
      "Given Input is a Disarium Number.\n"
     ]
    }
   ],
   "source": [
    "num1 = input(\"Enter a Number: \")\n",
    "if disarium(num1) == 1:\n",
    "    print(\"Given Input is a Disarium Number.\")\n",
    "else:\n",
    "    print(\"Given Input is not a Disarium Number.\")"
   ]
  },
  {
   "cell_type": "markdown",
   "id": "88573aa0",
   "metadata": {},
   "source": [
    "### 2. Write a Python program to print all disarium numbers between 1 to 100?"
   ]
  },
  {
   "cell_type": "code",
   "execution_count": 3,
   "id": "02f43bb6",
   "metadata": {},
   "outputs": [
    {
     "name": "stdout",
     "output_type": "stream",
     "text": [
      "Disarium Number:  1 2 3 4 5 6 7 8 9 89\n"
     ]
    }
   ],
   "source": [
    "#Generating a list of 1 to 100\n",
    "temp_list = []\n",
    "for i in range(1,101):\n",
    "    if disarium(str(i)) == 1:\n",
    "        temp_list.append(i)\n",
    "print(\"Disarium Number: \",*temp_list)"
   ]
  },
  {
   "cell_type": "markdown",
   "id": "17e63833",
   "metadata": {},
   "source": [
    "### 3. Write a Python program to check if the given number is Happy Number?"
   ]
  },
  {
   "cell_type": "code",
   "execution_count": 4,
   "id": "a541ce78",
   "metadata": {},
   "outputs": [],
   "source": [
    "def happy(num):\n",
    "    cond = True\n",
    "    while cond:\n",
    "        temp = list(num)\n",
    "        sq_sum = str(sum([int(x)**2 for x in temp]))\n",
    "        if sq_sum == \"1\":\n",
    "            return 1\n",
    "        elif len(sq_sum) == 1:\n",
    "            return 0\n",
    "        else:\n",
    "            num = sq_sum"
   ]
  },
  {
   "cell_type": "code",
   "execution_count": 5,
   "id": "a95c3744",
   "metadata": {},
   "outputs": [
    {
     "name": "stdout",
     "output_type": "stream",
     "text": [
      "Enter a Number: 97\n",
      "Given Input is a Happy Number.\n"
     ]
    }
   ],
   "source": [
    "num1 = input(\"Enter a Number: \")\n",
    "if happy(num1) == 1:\n",
    "    print(\"Given Input is a Happy Number.\")\n",
    "else:\n",
    "    print(\"Given Input is not a Happy Number.\")"
   ]
  },
  {
   "cell_type": "markdown",
   "id": "7bb6aca5",
   "metadata": {},
   "source": [
    "### 4. Write a Python program to print all happy numbers between 1 and 100?"
   ]
  },
  {
   "cell_type": "code",
   "execution_count": 6,
   "id": "4594255c",
   "metadata": {},
   "outputs": [
    {
     "name": "stdout",
     "output_type": "stream",
     "text": [
      "Happy Number:  1 7 10 13 19 23 28 31 32 44 49 68 70 79 82 86 91 94 97 100\n"
     ]
    }
   ],
   "source": [
    "#Generating a list of 1 to 100\n",
    "temp_list = []\n",
    "for i in range(1,101):\n",
    "    if happy(str(i)) == 1:\n",
    "        temp_list.append(i)\n",
    "print(\"Happy Number: \",*temp_list)"
   ]
  },
  {
   "cell_type": "markdown",
   "id": "8a8d679c",
   "metadata": {},
   "source": [
    "### 5. Write a Python program to determine whether the given number is a Harshad Number?"
   ]
  },
  {
   "cell_type": "code",
   "execution_count": 22,
   "id": "fc9d9c21",
   "metadata": {},
   "outputs": [],
   "source": [
    "def harshad(num1):\n",
    "    cond = True\n",
    "    while cond:\n",
    "        if int(num1)%sum(list(map(int,num1))) != 0:\n",
    "            return 0\n",
    "        elif int(num1)/sum(list(map(int,num1))) == 1:\n",
    "            return 1\n",
    "        else:\n",
    "            num1 = str(sum(list(map(int,num1))))"
   ]
  },
  {
   "cell_type": "code",
   "execution_count": 23,
   "id": "55682031",
   "metadata": {},
   "outputs": [
    {
     "name": "stdout",
     "output_type": "stream",
     "text": [
      "Enter a Number: 6804\n",
      "Given Input is a Harshad Number.\n"
     ]
    }
   ],
   "source": [
    "num1 = input(\"Enter a Number: \")\n",
    "if harshad(num1) == 1:\n",
    "    print(\"Given Input is a Harshad Number.\")\n",
    "else:\n",
    "    print(\"Given Input is not a Harshad Number.\")"
   ]
  },
  {
   "cell_type": "markdown",
   "id": "e53c583f",
   "metadata": {},
   "source": [
    "### 6. Write a Python program to print all Pronic Numbers between 1 and 100?"
   ]
  },
  {
   "cell_type": "code",
   "execution_count": 26,
   "id": "e536afb1",
   "metadata": {},
   "outputs": [],
   "source": [
    "def pronic(num1):\n",
    "    temp = list(range(2,int(num1**0.5)+2))\n",
    "    for i,j in enumerate(temp,1):\n",
    "        if i*j == num1:\n",
    "            return 1\n",
    "    return 0"
   ]
  },
  {
   "cell_type": "code",
   "execution_count": 29,
   "id": "a2b855c0",
   "metadata": {},
   "outputs": [
    {
     "name": "stdout",
     "output_type": "stream",
     "text": [
      "Pronic Numbers:  2 6 12 20 30 42 56 72 90\n"
     ]
    }
   ],
   "source": [
    "#Generating a list of 1 to 100\n",
    "temp_list = []\n",
    "for i in range(1,101):\n",
    "    if pronic(i) == 1:\n",
    "        temp_list.append(i)\n",
    "print(\"Pronic Numbers: \",*temp_list)"
   ]
  }
 ],
 "metadata": {
  "kernelspec": {
   "display_name": "Python 3 (ipykernel)",
   "language": "python",
   "name": "python3"
  },
  "language_info": {
   "codemirror_mode": {
    "name": "ipython",
    "version": 3
   },
   "file_extension": ".py",
   "mimetype": "text/x-python",
   "name": "python",
   "nbconvert_exporter": "python",
   "pygments_lexer": "ipython3",
   "version": "3.9.7"
  }
 },
 "nbformat": 4,
 "nbformat_minor": 5
}
