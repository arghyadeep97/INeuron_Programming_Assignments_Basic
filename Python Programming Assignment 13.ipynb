{
 "cells": [
  {
   "cell_type": "markdown",
   "id": "55dce034",
   "metadata": {},
   "source": [
    "# Python Programming Assignment 13"
   ]
  },
  {
   "cell_type": "markdown",
   "id": "252250c8",
   "metadata": {},
   "source": [
    "### Question 1:\n",
    "#### Write a program that calculates and prints the value according to the given formula:\n",
    "#### Q = Square root of [(2 * C * D)/H]\n",
    "#### Following are the fixed values of C and H:\n",
    "#### C is 50. H is 30.\n",
    "#### D is the variable whose values should be input to your program in a comma-separated sequence.\n",
    "### Example\n",
    "#### Let us assume the following comma separated input sequence is given to the program:\n",
    "#### 100,150,180\n",
    "#### The output of the program should be:\n",
    "#### 18,22,24"
   ]
  },
  {
   "cell_type": "code",
   "execution_count": 4,
   "id": "6926ac28",
   "metadata": {},
   "outputs": [
    {
     "name": "stdout",
     "output_type": "stream",
     "text": [
      "Enter D-Value by Comma Separeted Sequence:\n",
      "100,150,180\n",
      "[18, 22, 24]\n"
     ]
    }
   ],
   "source": [
    "C,H = 50,30\n",
    "D = list(map(int,input(\"Enter D-Value by Comma Separeted Sequence:\\n\").split(\",\")))\n",
    "#Calculating Q\n",
    "Q = lambda x: int(((2 * C * x)/H)**0.5)\n",
    "final_op = list(map(Q,D))\n",
    "print(final_op)"
   ]
  },
  {
   "cell_type": "markdown",
   "id": "3756724f",
   "metadata": {},
   "source": [
    "### Question 2:\n",
    "#### Write a program which takes 2 digits, X,Y as input and generates a 2-dimensional array. \n",
    "#### The element value in the i-th row and j-th column of the array should be i*j.\n",
    "#### Note: i=0,1.., X-1; j=0,1,¡Y-1.\n",
    "### Example\n",
    "#### Suppose the following inputs are given to the program:\n",
    "#### 3,5\n",
    "#### Then, the output of the program should be:\n",
    "#### [[0, 0, 0, 0, 0], [0, 1, 2, 3, 4], [0, 2, 4, 6, 8]]"
   ]
  },
  {
   "cell_type": "code",
   "execution_count": 9,
   "id": "f5059bea",
   "metadata": {},
   "outputs": [
    {
     "name": "stdout",
     "output_type": "stream",
     "text": [
      "3,5\n",
      "[[0, 0, 0, 0, 0], [0, 1, 2, 3, 4], [0, 2, 4, 6, 8]]\n"
     ]
    }
   ],
   "source": [
    "X,Y = tuple(map(int,input().split(\",\")))\n",
    "final_seq = []\n",
    "for i in range(X):\n",
    "    if i == 0:\n",
    "        final_seq.append([0]*Y)\n",
    "    else:\n",
    "        final_seq.append(list(range(0,i*Y,i)))\n",
    "print(final_seq)"
   ]
  },
  {
   "cell_type": "markdown",
   "id": "b833aebc",
   "metadata": {},
   "source": [
    "### Question 3:\n",
    "#### Write a program that accepts a comma separated sequence of words as input and prints the words in a comma-separated sequence after sorting them alphabetically.\n",
    "#### Suppose the following input is supplied to the program:\n",
    "#### without,hello,bag,world\n",
    "#### Then, the output should be:\n",
    "#### bag,hello,without,world"
   ]
  },
  {
   "cell_type": "code",
   "execution_count": 11,
   "id": "86c81c9d",
   "metadata": {},
   "outputs": [
    {
     "name": "stdout",
     "output_type": "stream",
     "text": [
      "without,hello,bag,world\n",
      "bag,hello,without,world\n"
     ]
    }
   ],
   "source": [
    "inp = list(input().split(\",\"))\n",
    "print(\",\".join(sorted(inp)))"
   ]
  },
  {
   "cell_type": "markdown",
   "id": "26c74edc",
   "metadata": {},
   "source": [
    "### Question 4:\n",
    "#### Write a program that accepts a sequence of whitespace separated words as input and prints the words after removing all duplicate words and sorting them alphanumerically.\n",
    "#### Suppose the following input is supplied to the program:\n",
    "#### hello world and practice makes perfect and hello world again\n",
    "#### Then, the output should be:\n",
    "#### again and hello makes perfect practice world"
   ]
  },
  {
   "cell_type": "code",
   "execution_count": 13,
   "id": "38569169",
   "metadata": {},
   "outputs": [
    {
     "name": "stdout",
     "output_type": "stream",
     "text": [
      "hello world and practice makes perfect and hello world again\n",
      "again and hello makes perfect practice world\n"
     ]
    }
   ],
   "source": [
    "inp = list(set(input().split()))\n",
    "print(\" \".join(sorted(inp)))"
   ]
  },
  {
   "cell_type": "markdown",
   "id": "a691aeec",
   "metadata": {},
   "source": [
    "### Question 5:\n",
    "#### Write a program that accepts a sentence and calculate the number of letters and digits.\n",
    "#### Suppose the following input is supplied to the program:\n",
    "#### hello world! 123\n",
    "#### Then, the output should be:\n",
    "#### LETTERS 10\n",
    "#### DIGITS 3"
   ]
  },
  {
   "cell_type": "code",
   "execution_count": 15,
   "id": "63470df7",
   "metadata": {},
   "outputs": [
    {
     "name": "stdout",
     "output_type": "stream",
     "text": [
      "hello world! 123\n",
      "LETTERS 10\n",
      "DIGIT 3\n"
     ]
    }
   ],
   "source": [
    "string = input()\n",
    "let,dig = 0,0\n",
    "for i in string:\n",
    "    if i.isdigit() == 1:\n",
    "        dig +=1\n",
    "    elif i.isalpha() == 1:\n",
    "        let += 1\n",
    "print(\"LETTERS {}\".format(let))\n",
    "print(\"DIGIT {}\".format(dig))"
   ]
  },
  {
   "cell_type": "markdown",
   "id": "45a47b02",
   "metadata": {},
   "source": [
    "### Question 6:\n",
    "#### A website requires the users to input username and password to register. Write a program to check the validity of password input by users.\n",
    "#### Following are the criteria for checking the password:\n",
    "#### 1. At least 1 letter between [a-z]\n",
    "#### 2. At least 1 number between [0-9]\n",
    "#### 1. At least 1 letter between [A-Z]\n",
    "#### 3. At least 1 character from [$#@]\n",
    "#### 4. Minimum length of transaction password: 6\n",
    "#### 5. Maximum length of transaction password: 12\n",
    "#### Your program should accept a sequence of comma separated passwords and will check them according to the above criteria. Passwords that match the criteria are to be printed, each separated by a comma.\n",
    "### Example\n",
    "#### If the following passwords are given as input to the program:\n",
    "#### ABd1234@1,a F1#,2w3E*,2We3345\n",
    "#### Then, the output of the program should be:\n",
    "#### ABd1234@1"
   ]
  },
  {
   "cell_type": "code",
   "execution_count": 8,
   "id": "abdb19da",
   "metadata": {},
   "outputs": [],
   "source": [
    "import re\n",
    "def valid_password(password):\n",
    "    while True:\n",
    "        if len(password) < 6 or len(password) > 12:\n",
    "            break\n",
    "        elif not re.search(\"[a-z]\",password):\n",
    "            break\n",
    "        elif not re.search(\"[A-Z]\",password):\n",
    "            break\n",
    "        elif not re.search(\"[0-9]\",password):\n",
    "            break\n",
    "        elif not re.search(\"[$#@]\",password):\n",
    "            break\n",
    "        elif re.search(\"\\s\",password):\n",
    "            break\n",
    "        else:\n",
    "            return 1       "
   ]
  },
  {
   "cell_type": "code",
   "execution_count": 9,
   "id": "e8e89702",
   "metadata": {},
   "outputs": [
    {
     "name": "stdout",
     "output_type": "stream",
     "text": [
      "Enter the Password List Separeted by Comma:\n",
      "ABd1234@1,a F1#,2w3E*,2We3345\n",
      "ABd1234@1\n"
     ]
    }
   ],
   "source": [
    "password = input(\"Enter the Password List Separeted by Comma:\\n\").split(\",\")\n",
    "validpass = list(filter(lambda x: valid_password(x)== 1,password))\n",
    "print(*validpass)"
   ]
  }
 ],
 "metadata": {
  "kernelspec": {
   "display_name": "Python 3 (ipykernel)",
   "language": "python",
   "name": "python3"
  },
  "language_info": {
   "codemirror_mode": {
    "name": "ipython",
    "version": 3
   },
   "file_extension": ".py",
   "mimetype": "text/x-python",
   "name": "python",
   "nbconvert_exporter": "python",
   "pygments_lexer": "ipython3",
   "version": "3.9.7"
  }
 },
 "nbformat": 4,
 "nbformat_minor": 5
}
