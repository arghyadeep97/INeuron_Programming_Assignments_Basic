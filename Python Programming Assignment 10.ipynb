{
 "cells": [
  {
   "cell_type": "markdown",
   "id": "ff4f4995",
   "metadata": {},
   "source": [
    "# Python Programming Assignment 10"
   ]
  },
  {
   "cell_type": "markdown",
   "id": "c94da4c2",
   "metadata": {},
   "source": [
    "### 1. Write a Python program to find sum of elements in list?"
   ]
  },
  {
   "cell_type": "code",
   "execution_count": 1,
   "id": "459e1787",
   "metadata": {},
   "outputs": [
    {
     "name": "stdout",
     "output_type": "stream",
     "text": [
      "Enter a Space Separeted Element List: 5 6 9 8 10 12\n",
      "Sum of the List Element is:  50\n"
     ]
    }
   ],
   "source": [
    "list1 = list(map(int,input(\"Enter a Space Separeted Element List: \").split()))\n",
    "list_sum = 0\n",
    "for i in list1:\n",
    "    list_sum += i\n",
    "print(\"Sum of the List Element is: \",list_sum)"
   ]
  },
  {
   "cell_type": "markdown",
   "id": "ffe4c0b8",
   "metadata": {},
   "source": [
    "### 2. Write a Python program to Multiply all numbers in the list?"
   ]
  },
  {
   "cell_type": "code",
   "execution_count": 2,
   "id": "e981f1cb",
   "metadata": {},
   "outputs": [
    {
     "name": "stdout",
     "output_type": "stream",
     "text": [
      "Enter a Space Separeted Element List: 5 6 9 10\n",
      "Sum of the List Element is:  2700\n"
     ]
    }
   ],
   "source": [
    "list1 = list(map(int,input(\"Enter a Space Separeted Element List: \").split()))\n",
    "list_sum = 1\n",
    "for i in list1:\n",
    "    list_sum = list_sum * i\n",
    "print(\"Sum of the List Element is: \",list_sum)"
   ]
  },
  {
   "cell_type": "markdown",
   "id": "51fd12c7",
   "metadata": {},
   "source": [
    "### 3. Write a Python program to find smallest number in a list?"
   ]
  },
  {
   "cell_type": "code",
   "execution_count": 3,
   "id": "c166f835",
   "metadata": {},
   "outputs": [
    {
     "name": "stdout",
     "output_type": "stream",
     "text": [
      "Enter a Space Separeted Element List: 5 3 9 10 15 2 25\n",
      "Smallest Number is:  2\n"
     ]
    }
   ],
   "source": [
    "list1 = list(map(int,input(\"Enter a Space Separeted Element List: \").split()))\n",
    "print(\"Smallest Number is: \",min(list1))"
   ]
  },
  {
   "cell_type": "markdown",
   "id": "22772ef6",
   "metadata": {},
   "source": [
    "### 4. Write a Python program to find largest number in a list?"
   ]
  },
  {
   "cell_type": "code",
   "execution_count": 4,
   "id": "d5f5fa2c",
   "metadata": {},
   "outputs": [
    {
     "name": "stdout",
     "output_type": "stream",
     "text": [
      "Enter a Space Separeted Element List: 5 3 9 10 15 2 25\n",
      "Largest Number is:  25\n"
     ]
    }
   ],
   "source": [
    "list1 = list(map(int,input(\"Enter a Space Separeted Element List: \").split()))\n",
    "print(\"Largest Number is: \",max(list1))"
   ]
  },
  {
   "cell_type": "markdown",
   "id": "a0b0c8f9",
   "metadata": {},
   "source": [
    "### 5. Write a Python program to find second largest number in a list?"
   ]
  },
  {
   "cell_type": "code",
   "execution_count": 5,
   "id": "c83ad435",
   "metadata": {},
   "outputs": [
    {
     "name": "stdout",
     "output_type": "stream",
     "text": [
      "Enter a Space Separeted Element List: 5 3 9 10 15 2 25\n",
      "Second Largest Element is:  15\n"
     ]
    }
   ],
   "source": [
    "list1 = list(map(int,input(\"Enter a Space Separeted Element List: \").split()))\n",
    "#Remove same elements\n",
    "list1 = list(set(list1))\n",
    "#Removing the Largest Element\n",
    "list1.remove(max(list1))\n",
    "#Now we will get the Second Largest\n",
    "print(\"Second Largest Element is: \",max(list1))"
   ]
  },
  {
   "cell_type": "markdown",
   "id": "042ec14a",
   "metadata": {},
   "source": [
    "### 6. Write a Python program to find N largest elements from a list?"
   ]
  },
  {
   "cell_type": "code",
   "execution_count": 6,
   "id": "c1b35972",
   "metadata": {},
   "outputs": [
    {
     "name": "stdout",
     "output_type": "stream",
     "text": [
      "Enter a Space Separeted Element List: 5 3 9 10 15 2 25 35 42 7 21 56 17 38\n",
      "Enter the Value of N: 7\n",
      "7 Largest Number is: 17\n"
     ]
    }
   ],
   "source": [
    "list1 = list(map(int,input(\"Enter a Space Separeted Element List: \").split()))\n",
    "n = int(input(\"Enter the Value of N: \"))\n",
    "#Remove same elements\n",
    "list1 = list(set(list1))\n",
    "if n == len(list1):\n",
    "    print(\"{} Largest Number is: {}\".format(n,min(list1)))\n",
    "else:\n",
    "    for i in range(n-1):\n",
    "        list1.remove(max(list1))\n",
    "    print(\"{} Largest Number is: {}\".format(n,max(list1)))"
   ]
  },
  {
   "cell_type": "markdown",
   "id": "da464499",
   "metadata": {},
   "source": [
    "### 7. Write a Python program to print even numbers in a list?"
   ]
  },
  {
   "cell_type": "code",
   "execution_count": 7,
   "id": "9a009007",
   "metadata": {},
   "outputs": [
    {
     "name": "stdout",
     "output_type": "stream",
     "text": [
      "Enter a Space Separeted Element List: 5 3 9 10 15 2 25 35 42 7 21 56 17 38\n",
      "Even List:  10 2 42 56 38\n"
     ]
    }
   ],
   "source": [
    "list1 = list(map(int,input(\"Enter a Space Separeted Element List: \").split()))\n",
    "#Even Filtering\n",
    "list1 = list(filter(lambda x : x % 2 == 0,list1))\n",
    "print(\"Even List: \",*list1)"
   ]
  },
  {
   "cell_type": "markdown",
   "id": "d354b783",
   "metadata": {},
   "source": [
    "### 8. Write a Python program to print odd numbers in a List?"
   ]
  },
  {
   "cell_type": "code",
   "execution_count": 8,
   "id": "65fd5ce8",
   "metadata": {},
   "outputs": [
    {
     "name": "stdout",
     "output_type": "stream",
     "text": [
      "Enter a Space Separeted Element List: 5 3 9 10 15 2 25 35 42 7 21 56 17 38\n",
      "Odd List:  5 3 9 15 25 35 7 21 17\n"
     ]
    }
   ],
   "source": [
    "list1 = list(map(int,input(\"Enter a Space Separeted Element List: \").split()))\n",
    "#Odd Filtering\n",
    "list1 = list(filter(lambda x : x % 2 == 1,list1))\n",
    "print(\"Odd List: \",*list1)"
   ]
  },
  {
   "cell_type": "markdown",
   "id": "49492328",
   "metadata": {},
   "source": [
    "### 9. Write a Python program to Remove empty List from List?"
   ]
  },
  {
   "cell_type": "code",
   "execution_count": 9,
   "id": "181cc014",
   "metadata": {},
   "outputs": [
    {
     "name": "stdout",
     "output_type": "stream",
     "text": [
      "Given List:  [[2, 3, 1], [], ['Arghya', 'Python'], [], [2.3, 4.5, 9.4]]\n",
      "After Removing Empty List:  [[2, 3, 1], ['Arghya', 'Python'], [2.3, 4.5, 9.4]]\n"
     ]
    }
   ],
   "source": [
    "list1 = [[2,3,1],[],[\"Arghya\",\"Python\"],[],[2.3,4.5,9.4]]\n",
    "print(\"Given List: \",list1)\n",
    "#Removing Empty list\n",
    "list1 = list(filter(lambda x: len(x) > 1,list1))\n",
    "print(\"After Removing Empty List: \",list1)"
   ]
  },
  {
   "cell_type": "markdown",
   "id": "a5b077a3",
   "metadata": {},
   "source": [
    "### 10. Write a Python program to Cloning or Copying a list?"
   ]
  },
  {
   "cell_type": "code",
   "execution_count": 10,
   "id": "0a75cc61",
   "metadata": {},
   "outputs": [
    {
     "name": "stdout",
     "output_type": "stream",
     "text": [
      "Enter a Space Separeted Element List: 5 3 9 10 15 2 25 35 42 7 21 56 17 38\n",
      "Given List:  5 3 9 10 15 2 25 35 42 7 21 56 17 38\n",
      "Copied List:  5 3 9 10 15 2 25 35 42 7 21 56 17 38\n"
     ]
    }
   ],
   "source": [
    "list1 = list(map(int,input(\"Enter a Space Separeted Element List: \").split()))\n",
    "\n",
    "#Cloning in list2\n",
    "list2 = list1[:]\n",
    "print(\"Given List: \",*list1)\n",
    "print(\"Copied List: \",*list2)"
   ]
  },
  {
   "cell_type": "markdown",
   "id": "aae46d2c",
   "metadata": {},
   "source": [
    "### 11. Write a Python program to Count occurrences of an element in a list?"
   ]
  },
  {
   "cell_type": "code",
   "execution_count": 11,
   "id": "eeabd4b3",
   "metadata": {},
   "outputs": [
    {
     "name": "stdout",
     "output_type": "stream",
     "text": [
      "Enter a Space Separeted Element List: a 1 1 a b 2 3 a 9 1 2 1\n",
      "Enter the Element to Check the Occurance: 1\n",
      "Occurance of the Element is:  4\n"
     ]
    }
   ],
   "source": [
    "list1 = list(input(\"Enter a Space Separeted Element List: \").split())\n",
    "element = input(\"Enter the Element to Check the Occurance: \")\n",
    "print(\"Occurance of the Element is: \",list1.count(element))"
   ]
  }
 ],
 "metadata": {
  "kernelspec": {
   "display_name": "Python 3 (ipykernel)",
   "language": "python",
   "name": "python3"
  },
  "language_info": {
   "codemirror_mode": {
    "name": "ipython",
    "version": 3
   },
   "file_extension": ".py",
   "mimetype": "text/x-python",
   "name": "python",
   "nbconvert_exporter": "python",
   "pygments_lexer": "ipython3",
   "version": "3.9.7"
  }
 },
 "nbformat": 4,
 "nbformat_minor": 5
}
