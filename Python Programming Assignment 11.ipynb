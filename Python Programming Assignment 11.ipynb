{
 "cells": [
  {
   "cell_type": "markdown",
   "id": "c1c902a5",
   "metadata": {},
   "source": [
    "# Python Programming Assignment 11"
   ]
  },
  {
   "cell_type": "markdown",
   "id": "e7d36dfa",
   "metadata": {},
   "source": [
    "### 1. Write a Python program to find words which are greater than given length k?"
   ]
  },
  {
   "cell_type": "code",
   "execution_count": 3,
   "id": "fd5b6aff",
   "metadata": {},
   "outputs": [
    {
     "name": "stdout",
     "output_type": "stream",
     "text": [
      "Enter the Paragraph:\n",
      "For several generations stories from Africa have traditionally been passed down by word of mouth Often after a hard day work the adults would gather the children together by moonlight around a village fire and tell stories This was traditionally called Tales by Moonlight Usually the stories are meant to prepare young people for life and so each story taught a lesson or moral In the African folktales the stories reflect the culture where diverse types of animals abound The animals and birds are often accorded human attributes so it is not uncommon to find animals talking singing or demonstrating other human characteristics such as greed jealousy honesty etc The setting in many of the stories exposes the reader to the land form and climate within that region of Africa References are often made to different seasons such as the dry or rainy season and their various effects on the surrounding vegetation and animal life\n",
      "Enter the Value of K: 6\n",
      "['several', 'generations', 'stories', 'traditionally', 'children', 'together', 'moonlight', 'village', 'stories', 'traditionally', 'Moonlight', 'Usually', 'stories', 'prepare', 'African', 'folktales', 'stories', 'reflect', 'culture', 'diverse', 'animals', 'animals', 'accorded', 'attributes', 'uncommon', 'animals', 'talking', 'singing', 'demonstrating', 'characteristics', 'jealousy', 'honesty', 'setting', 'stories', 'exposes', 'climate', 'References', 'different', 'seasons', 'various', 'effects', 'surrounding', 'vegetation']\n"
     ]
    }
   ],
   "source": [
    "paragraph = input(\"Enter the Paragraph:\\n\")\n",
    "wordlist = paragraph.split()\n",
    "k = int(input(\"Enter the Value of K: \"))\n",
    "final_list = list(filter(lambda x: len(x)>k,wordlist))\n",
    "print(final_list)"
   ]
  },
  {
   "cell_type": "markdown",
   "id": "58726473",
   "metadata": {},
   "source": [
    "### 2. Write a Python program for removing i-th character from a string?"
   ]
  },
  {
   "cell_type": "code",
   "execution_count": 5,
   "id": "9d511bdf",
   "metadata": {},
   "outputs": [
    {
     "name": "stdout",
     "output_type": "stream",
     "text": [
      "Enter a String: Arghya@deep\n",
      "Enter the Value of I: 7\n",
      "Final String:  Arghyadeep\n"
     ]
    }
   ],
   "source": [
    "string  = input(\"Enter a String: \")\n",
    "i = int(input(\"Enter the Value of I: \"))\n",
    "new_string = \"\"\n",
    "if i == len(string):\n",
    "    new_string = string[:-1]\n",
    "elif i == 1:\n",
    "    new_string = string[1:]\n",
    "else:\n",
    "    new_string = string[:i-1] + string[i:]\n",
    "print(\"Final String: \",new_string)"
   ]
  },
  {
   "cell_type": "markdown",
   "id": "dafc3f5a",
   "metadata": {},
   "source": [
    "### 3. Write a Python program to split and join a string?"
   ]
  },
  {
   "cell_type": "code",
   "execution_count": 7,
   "id": "7ffb13bf",
   "metadata": {},
   "outputs": [
    {
     "name": "stdout",
     "output_type": "stream",
     "text": [
      "Enter a Sentence: I like to play football\n",
      "After Splitted:\n",
      " ['I', 'like', 'to', 'play', 'football']\n",
      "After Join using '/':\n",
      " I/like/to/play/football\n"
     ]
    }
   ],
   "source": [
    "sentence = input(\"Enter a Sentence: \")\n",
    "splited  = sentence.split()\n",
    "print(\"After Splitted:\\n\",splited)\n",
    "print(\"After Join using '/':\\n\",\"/\".join(splited))"
   ]
  },
  {
   "cell_type": "markdown",
   "id": "94e8625e",
   "metadata": {},
   "source": [
    "### 4. Write a Python to check if a given string is binary string or not?"
   ]
  },
  {
   "cell_type": "code",
   "execution_count": 10,
   "id": "8444175a",
   "metadata": {},
   "outputs": [
    {
     "name": "stdout",
     "output_type": "stream",
     "text": [
      "Enter a String: 10101\n",
      "Given String is Binary String\n"
     ]
    }
   ],
   "source": [
    "bin_list = [\"0\",\"1\"]\n",
    "string = input(\"Enter a String: \")\n",
    "bin_str = list(filter(lambda x: x not in bin_list,string))\n",
    "if len(bin_str) == 0:\n",
    "    print(\"Given String is Binary String\")\n",
    "else:\n",
    "    print(\"Given String is not Binary String\")"
   ]
  },
  {
   "cell_type": "markdown",
   "id": "084aa5cd",
   "metadata": {},
   "source": [
    "### 5. Write a Python program to find uncommon words from two Strings?"
   ]
  },
  {
   "cell_type": "code",
   "execution_count": 12,
   "id": "ba5358df",
   "metadata": {},
   "outputs": [
    {
     "name": "stdout",
     "output_type": "stream",
     "text": [
      "Enter the First String: I Love to Play Football\n",
      "Enter the Second String: I Love to Eat Biriany\n",
      "Uncommon Words:  Football Play Biriany Eat\n"
     ]
    }
   ],
   "source": [
    "String1 = set(input(\"Enter the First String: \").split())\n",
    "String2 = set(input(\"Enter the Second String: \").split())\n",
    "#Calculata Union and Intersection of two sets\n",
    "Union,Inter = String1.union(String2),String1.intersection(String2)\n",
    "#Get the difference of Union and Intersection for Uncommon elements\n",
    "Final = Union.difference(Inter)\n",
    "print(\"Uncommon Words: \",*Final)"
   ]
  },
  {
   "cell_type": "markdown",
   "id": "bc7f8dbf",
   "metadata": {},
   "source": [
    "### 6. Write a Python to find all duplicate characters in string?"
   ]
  },
  {
   "cell_type": "code",
   "execution_count": 14,
   "id": "36994af2",
   "metadata": {},
   "outputs": [
    {
     "name": "stdout",
     "output_type": "stream",
     "text": [
      "Enter a String: Arghyadeep\n",
      "Duplicate Characters are:  e e\n"
     ]
    }
   ],
   "source": [
    "String1 = input(\"Enter a String: \")\n",
    "Duplicate = list(filter(lambda x : String1.count(x)>1,String1))\n",
    "print(\"Duplicate Characters are: \",*Duplicate)"
   ]
  },
  {
   "cell_type": "markdown",
   "id": "f8a339cc",
   "metadata": {},
   "source": [
    "### 7. Write a Python Program to check if a string contains any special character?"
   ]
  },
  {
   "cell_type": "code",
   "execution_count": 15,
   "id": "ed57e4ff",
   "metadata": {},
   "outputs": [
    {
     "name": "stdout",
     "output_type": "stream",
     "text": [
      "Enter the String: Hello@#3World\n",
      "There exists Special Character.\n"
     ]
    }
   ],
   "source": [
    "number_ascii = list(range(48,58))\n",
    "caps_ascii = list(range(65,91))\n",
    "lower_ascii = list(range(97,123))\n",
    "alnum_ascii = number_ascii + caps_ascii + lower_ascii\n",
    "string = input(\"Enter the String: \")\n",
    "temp = list()\n",
    "for i in string:\n",
    "    if ord(i) not in alnum_ascii:\n",
    "        temp.append(i)\n",
    "if len(temp) != 0:\n",
    "    print(\"There exists Special Character.\")\n",
    "else:\n",
    "    print(\"There does not exist Special Character.\")"
   ]
  }
 ],
 "metadata": {
  "kernelspec": {
   "display_name": "Python 3 (ipykernel)",
   "language": "python",
   "name": "python3"
  },
  "language_info": {
   "codemirror_mode": {
    "name": "ipython",
    "version": 3
   },
   "file_extension": ".py",
   "mimetype": "text/x-python",
   "name": "python",
   "nbconvert_exporter": "python",
   "pygments_lexer": "ipython3",
   "version": "3.9.7"
  }
 },
 "nbformat": 4,
 "nbformat_minor": 5
}
