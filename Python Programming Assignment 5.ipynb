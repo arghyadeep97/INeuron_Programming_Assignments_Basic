{
 "cells": [
  {
   "cell_type": "markdown",
   "id": "119c8ded",
   "metadata": {},
   "source": [
    "# Python Programming Assignment 5"
   ]
  },
  {
   "cell_type": "markdown",
   "id": "88a21dc7",
   "metadata": {},
   "source": [
    "### 1. Write a Python Program to Find LCM?"
   ]
  },
  {
   "cell_type": "code",
   "execution_count": 6,
   "id": "9efc599b",
   "metadata": {},
   "outputs": [],
   "source": [
    "def gcdf(a,b):\n",
    "    if b == 0:\n",
    "        return a\n",
    "    return gcdf(b,a%b)"
   ]
  },
  {
   "cell_type": "code",
   "execution_count": 9,
   "id": "5aa02771",
   "metadata": {},
   "outputs": [
    {
     "name": "stdout",
     "output_type": "stream",
     "text": [
      "Enter two numbers separeted by space: 15 25\n",
      "LCM of two number is:  75\n"
     ]
    }
   ],
   "source": [
    "num1,num2 = tuple(map(int,input(\"Enter two numbers separeted by space: \").split()))\n",
    "print(\"LCM of two number is: \",(num1 * num2)//gcdf(num1,num2))"
   ]
  },
  {
   "cell_type": "markdown",
   "id": "43abcb7d",
   "metadata": {},
   "source": [
    "### 2. Write a Python Program to Find HCF?"
   ]
  },
  {
   "cell_type": "code",
   "execution_count": 10,
   "id": "a4ba3f8d",
   "metadata": {},
   "outputs": [
    {
     "name": "stdout",
     "output_type": "stream",
     "text": [
      "Enter two numbers separeted by space: 35 115\n",
      "HCF of two number is:  5\n"
     ]
    }
   ],
   "source": [
    "num1,num2 = tuple(map(int,input(\"Enter two numbers separeted by space: \").split()))\n",
    "print(\"HCF of two number is: \",gcdf(num1,num2))"
   ]
  },
  {
   "cell_type": "markdown",
   "id": "a134c66e",
   "metadata": {},
   "source": [
    "### 3. Write a Python Program to Convert Decimal to Binary, Octal and Hexadecimal?"
   ]
  },
  {
   "cell_type": "code",
   "execution_count": 21,
   "id": "dea22564",
   "metadata": {},
   "outputs": [
    {
     "name": "stdout",
     "output_type": "stream",
     "text": [
      "Enter a Number: 31\n",
      "Corresponding Binary Value:  11111\n",
      "Corresponding Octal Value:  37\n",
      "Corresponding Hexadecimal Value:  1f\n"
     ]
    }
   ],
   "source": [
    "inp_number = int(input(\"Enter a Number: \"))\n",
    "print(\"Corresponding Binary Value: \",bin(inp_number).replace(\"0b\",\"\"))\n",
    "print(\"Corresponding Octal Value: \",oct(inp_number).replace(\"0o\",\"\"))\n",
    "print(\"Corresponding Hexadecimal Value: \",hex(inp_number).replace(\"0x\",\"\"))"
   ]
  },
  {
   "cell_type": "markdown",
   "id": "86235e5a",
   "metadata": {},
   "source": [
    "### 4. Write a Python Program To Find ASCII value of a character?"
   ]
  },
  {
   "cell_type": "code",
   "execution_count": 22,
   "id": "84a0460f",
   "metadata": {},
   "outputs": [
    {
     "name": "stdout",
     "output_type": "stream",
     "text": [
      "Enter a Character: A\n",
      "Corresponding ASCII Value is:  65\n"
     ]
    }
   ],
   "source": [
    "inp_char = input(\"Enter a Character: \")\n",
    "print(\"Corresponding ASCII Value is: \",ord(inp_char))"
   ]
  },
  {
   "cell_type": "markdown",
   "id": "4062f5f8",
   "metadata": {},
   "source": [
    "### 5. Write a Python Program to Make a Simple Calculator with 4 basic mathematical operations?"
   ]
  },
  {
   "cell_type": "code",
   "execution_count": 10,
   "id": "21ef28ca",
   "metadata": {},
   "outputs": [],
   "source": [
    "def calc(a,b,c):\n",
    "    if b == \"+\":\n",
    "        print(a+c)\n",
    "    elif b == \"-\":\n",
    "        print(a-c)\n",
    "    elif b == \"*\":\n",
    "        print(a*c)\n",
    "    elif b == \"/\":\n",
    "        print(a/c)"
   ]
  },
  {
   "cell_type": "code",
   "execution_count": 11,
   "id": "a906a85b",
   "metadata": {},
   "outputs": [
    {
     "name": "stdout",
     "output_type": "stream",
     "text": [
      "Enter Expression in Given Format(For addition: 2 + 3):\n",
      "7 + 8\n",
      "15\n",
      "Press 1 to Continue: 1\n",
      "Enter Expression in Given Format(For addition: 2 + 3):\n",
      "7 * 8\n",
      "56\n",
      "Press 1 to Continue: 1\n",
      "Enter Expression in Given Format(For addition: 2 + 3):\n",
      "15 - 7\n",
      "8\n",
      "Press 1 to Continue: 1\n",
      "Enter Expression in Given Format(For addition: 2 + 3):\n",
      "15 / 5\n",
      "3.0\n",
      "Press 1 to Continue: 0\n",
      "Thank You, For using this Calculator\n"
     ]
    }
   ],
   "source": [
    "cond = True\n",
    "while cond:\n",
    "    num1,operator,num2 = tuple(input(\"Enter Expression in Given Format(For addition: 2 + 3):\\n\").split())\n",
    "    num1,num2 = int(num1),int(num2)\n",
    "    if operator in [\"+\",\"-\",\"*\",\"/\"]:\n",
    "        calc(num1,operator,num2)\n",
    "    else:\n",
    "        print(\"Please, provide correct operator.\")\n",
    "    c = int(input(\"Press 1 to Continue: \"))\n",
    "    if c != 1:\n",
    "        print(\"Thank You, For using this Calculator\")\n",
    "        cond = False"
   ]
  }
 ],
 "metadata": {
  "kernelspec": {
   "display_name": "Python 3 (ipykernel)",
   "language": "python",
   "name": "python3"
  },
  "language_info": {
   "codemirror_mode": {
    "name": "ipython",
    "version": 3
   },
   "file_extension": ".py",
   "mimetype": "text/x-python",
   "name": "python",
   "nbconvert_exporter": "python",
   "pygments_lexer": "ipython3",
   "version": "3.9.7"
  }
 },
 "nbformat": 4,
 "nbformat_minor": 5
}
