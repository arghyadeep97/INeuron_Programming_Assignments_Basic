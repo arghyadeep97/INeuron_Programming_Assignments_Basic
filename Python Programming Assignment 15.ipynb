{
 "cells": [
  {
   "cell_type": "markdown",
   "id": "b2f437e4",
   "metadata": {},
   "source": [
    "# Python Programming Assignment 15"
   ]
  },
  {
   "cell_type": "markdown",
   "id": "c292e66f",
   "metadata": {},
   "source": [
    "### Question 1:\n",
    "#### Please write a program using generator to print the numbers which can be divisible by 5 and 7 between 0 and n in comma separated form while n is input by console.\n",
    "### Example:\n",
    "#### If the following n is given as input to the program:\n",
    "#### 100\n",
    "#### Then, the output of the program should be:\n",
    "#### 0,35,70"
   ]
  },
  {
   "cell_type": "code",
   "execution_count": 8,
   "id": "156a09d6",
   "metadata": {},
   "outputs": [],
   "source": [
    "def gen_seq(n):\n",
    "    for i in range(n+1):\n",
    "        if i%5 == 0 and i%7 == 0:\n",
    "            yield i"
   ]
  },
  {
   "cell_type": "code",
   "execution_count": 9,
   "id": "d1c50924",
   "metadata": {},
   "outputs": [
    {
     "name": "stdout",
     "output_type": "stream",
     "text": [
      "Enter the Range: 100\n",
      "0,35,70,"
     ]
    }
   ],
   "source": [
    "num = int(input(\"Enter the Range: \"))\n",
    "for i in gen_seq(num):\n",
    "    print(i,end = \",\")"
   ]
  },
  {
   "cell_type": "markdown",
   "id": "e3a710ff",
   "metadata": {},
   "source": [
    "### Question 2:\n",
    "#### Please write a program using generator to print the even numbers between 0 and n in comma separated form while n is input by console.\n",
    "### Example:\n",
    "#### If the following n is given as input to the program:\n",
    "#### 10\n",
    "#### Then, the output of the program should be:\n",
    "#### 0,2,4,6,8,10"
   ]
  },
  {
   "cell_type": "code",
   "execution_count": 10,
   "id": "88d000b1",
   "metadata": {},
   "outputs": [],
   "source": [
    "def gen_even(n):\n",
    "    for i in range(n+1):\n",
    "        if i%2 == 0:\n",
    "            yield i"
   ]
  },
  {
   "cell_type": "code",
   "execution_count": 12,
   "id": "2ac6b84d",
   "metadata": {},
   "outputs": [
    {
     "name": "stdout",
     "output_type": "stream",
     "text": [
      "Enter the Range: 10\n",
      "0,2,4,6,8,10,"
     ]
    }
   ],
   "source": [
    "num = int(input(\"Enter the Range: \"))\n",
    "for i in gen_even(num):\n",
    "    print(i,end = \",\")"
   ]
  },
  {
   "cell_type": "markdown",
   "id": "2ddd6769",
   "metadata": {},
   "source": [
    "### Question 3:\n",
    "#### The Fibonacci Sequence is computed based on the following formula:\n",
    "#### f(n)=0 if n=0\n",
    "#### f(n)=1 if n=1\n",
    "#### f(n)=f(n-1)+f(n-2) if n>1\n",
    "#### Please write a program using list comprehension to print the Fibonacci Sequence in comma separated form with a given n input by console.\n",
    "### Example:\n",
    "#### If the following n is given as input to the program:\n",
    "#### 7\n",
    "\n",
    "#### Then, the output of the program should be:\n",
    "#### 0,1,1,2,3,5,8,13\n"
   ]
  },
  {
   "cell_type": "code",
   "execution_count": 35,
   "id": "def2d12f",
   "metadata": {},
   "outputs": [
    {
     "name": "stdout",
     "output_type": "stream",
     "text": [
      "Enter the Range: 7\n",
      "Fibonacci Series:\n",
      "[0, 1, 1, 2, 3, 5, 8, 13]\n"
     ]
    }
   ],
   "source": [
    "num = int(input(\"Enter the Range: \"))\n",
    "series=[]\n",
    "series.append(0)\n",
    "series.append(1)\n",
    "[series.append(series[k-1]+series[k-2]) for k in range(2,num+1)]\n",
    "print(\"Fibonacci Series:\")\n",
    "if num == 0:\n",
    "    print(series[:1])\n",
    "elif num == 1:\n",
    "    print(series[:2])\n",
    "else:\n",
    "    print(series)"
   ]
  },
  {
   "cell_type": "markdown",
   "id": "7b0ac43f",
   "metadata": {},
   "source": [
    "### Question 4:\n",
    "#### Assuming that we have some email addresses in the \"username@companyname.com\" format, please write program to print the user name of a given email address. Both user names and company names are composed of letters only.\n",
    "### Example:\n",
    "#### If the following email address is given as input to the program:\n",
    "#### john@google.com\n",
    "#### Then, the output of the program should be:\n",
    "#### john"
   ]
  },
  {
   "cell_type": "code",
   "execution_count": 38,
   "id": "d1612795",
   "metadata": {},
   "outputs": [
    {
     "name": "stdout",
     "output_type": "stream",
     "text": [
      "Enter the Email Address: john@google.com\n",
      "User Name: john\n"
     ]
    }
   ],
   "source": [
    "email = input(\"Enter the Email Address: \")\n",
    "print(\"User Name:\",email.split(\"@\")[0])"
   ]
  },
  {
   "cell_type": "markdown",
   "id": "c124c4ae",
   "metadata": {},
   "source": [
    "### Question 5:\n",
    "#### Define a class named Shape and its subclass Square. The Square class has an init function which takes a length as argument. Both classes have a area function which can print the area of the shape where Shape's area is 0 by default."
   ]
  },
  {
   "cell_type": "code",
   "execution_count": 1,
   "id": "af7c54ef",
   "metadata": {},
   "outputs": [],
   "source": [
    "class Shape(object):\n",
    "    def __init__(self):\n",
    "        pass\n",
    "\n",
    "    def area(self):\n",
    "        return 0\n",
    "\n",
    "class Square(Shape):\n",
    "    def __init__(self,l):    \n",
    "        self.length = l\n",
    "\n",
    "    def area(self):\n",
    "        return self.length*self.length"
   ]
  },
  {
   "cell_type": "code",
   "execution_count": 2,
   "id": "ad4b5f08",
   "metadata": {},
   "outputs": [
    {
     "name": "stdout",
     "output_type": "stream",
     "text": [
      "Enter The Length: 9\n"
     ]
    },
    {
     "data": {
      "text/plain": [
       "81"
      ]
     },
     "execution_count": 2,
     "metadata": {},
     "output_type": "execute_result"
    }
   ],
   "source": [
    "obsquare = Square(int(input(\"Enter The Length: \")))\n",
    "obsquare.area()"
   ]
  }
 ],
 "metadata": {
  "kernelspec": {
   "display_name": "Python 3 (ipykernel)",
   "language": "python",
   "name": "python3"
  },
  "language_info": {
   "codemirror_mode": {
    "name": "ipython",
    "version": 3
   },
   "file_extension": ".py",
   "mimetype": "text/x-python",
   "name": "python",
   "nbconvert_exporter": "python",
   "pygments_lexer": "ipython3",
   "version": "3.9.7"
  }
 },
 "nbformat": 4,
 "nbformat_minor": 5
}
