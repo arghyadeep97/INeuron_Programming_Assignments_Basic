{
 "cells": [
  {
   "cell_type": "markdown",
   "id": "966a8042",
   "metadata": {},
   "source": [
    "# Python Programming Assignment 1"
   ]
  },
  {
   "cell_type": "markdown",
   "id": "931f5c0d",
   "metadata": {},
   "source": [
    "### 1. Write a Python program to print \"Hello Python\"?"
   ]
  },
  {
   "cell_type": "code",
   "execution_count": 1,
   "id": "f9b72065",
   "metadata": {},
   "outputs": [
    {
     "name": "stdout",
     "output_type": "stream",
     "text": [
      "Hello Python\n"
     ]
    }
   ],
   "source": [
    "print(\"Hello Python\")"
   ]
  },
  {
   "cell_type": "markdown",
   "id": "87599d8f",
   "metadata": {},
   "source": [
    "### 2. Write a Python program to do arithmetical operations addition and division.?"
   ]
  },
  {
   "cell_type": "code",
   "execution_count": 4,
   "id": "1b70a805",
   "metadata": {},
   "outputs": [
    {
     "name": "stdout",
     "output_type": "stream",
     "text": [
      "Addition:  70\n",
      "Division:  6.0\n"
     ]
    }
   ],
   "source": [
    "x,y = 60,10\n",
    "\n",
    "# Arithmatic Addition\n",
    "print(\"Addition: \",x+y)\n",
    "\n",
    "#Arithmatic Division\n",
    "print(\"Division: \",x/y)"
   ]
  },
  {
   "cell_type": "markdown",
   "id": "41d2a65f",
   "metadata": {},
   "source": [
    "### 3. Write a Python program to find the area of a triangle?"
   ]
  },
  {
   "cell_type": "code",
   "execution_count": 5,
   "id": "85d6d460",
   "metadata": {},
   "outputs": [
    {
     "name": "stdout",
     "output_type": "stream",
     "text": [
      "Enter the height of the Triangle: 5\n",
      "Enter the base of the Triangle: 4\n",
      "Area of the given Triangle is:  10.0\n"
     ]
    }
   ],
   "source": [
    "Tri_height = int(input(\"Enter the height of the Triangle: \"))\n",
    "Tri_base = int(input(\"Enter the base of the Triangle: \"))\n",
    "print(\"Area of the given Triangle is: \",0.5*Tri_height*Tri_base)"
   ]
  },
  {
   "cell_type": "markdown",
   "id": "390c6f76",
   "metadata": {},
   "source": [
    "#### By using Scalene Triangle Formula"
   ]
  },
  {
   "cell_type": "code",
   "execution_count": 10,
   "id": "4c2e96d6",
   "metadata": {},
   "outputs": [
    {
     "name": "stdout",
     "output_type": "stream",
     "text": [
      "Enter three arms of the triangle separeted by space: 55 25 10\n",
      "Area of the Triangle is;  561.2486080160912\n"
     ]
    }
   ],
   "source": [
    "Tri_arms = list(map(int,input(\"Enter three arms of the triangle separeted by space: \").split()))\n",
    "Tri_arm1,Tri_arm2,Tri_arm3 = tuple(Tri_arms)\n",
    "\n",
    "#Calculate Semi Perimeter\n",
    "S = (Tri_arm1 + Tri_arm2 + Tri_arm3)/2\n",
    "\n",
    "#Area\n",
    "Area = abs(S*(S - Tri_arm1)*(S-Tri_arm2)*(S-Tri_arm3)) ** 0.5\n",
    "print(\"Area of the Triangle is; \",Area)"
   ]
  },
  {
   "cell_type": "markdown",
   "id": "1dd2773e",
   "metadata": {},
   "source": [
    "### 4. Write a Python program to swap two variables?"
   ]
  },
  {
   "cell_type": "code",
   "execution_count": 11,
   "id": "a271daee",
   "metadata": {},
   "outputs": [
    {
     "name": "stdout",
     "output_type": "stream",
     "text": [
      "Current Value of X is 5 and Y is 4\n",
      "After swapping, Value of X is 4 and Y is 5\n"
     ]
    }
   ],
   "source": [
    "x,y = 5,4\n",
    "print(\"Current Value of X is {} and Y is {}\".format(x,y))\n",
    "\n",
    "#Swapping\n",
    "x,y = y,x\n",
    "print(\"After swapping, Value of X is {} and Y is {}\".format(x,y))"
   ]
  },
  {
   "cell_type": "markdown",
   "id": "58709a87",
   "metadata": {},
   "source": [
    "### 5. Write a Python program to generate a random number?"
   ]
  },
  {
   "cell_type": "code",
   "execution_count": 14,
   "id": "f4d507dd",
   "metadata": {},
   "outputs": [
    {
     "name": "stdout",
     "output_type": "stream",
     "text": [
      "19\n"
     ]
    }
   ],
   "source": [
    "#For this importing random number is necessary\n",
    "from random import randint\n",
    "\n",
    "print(randint(1,25))"
   ]
  }
 ],
 "metadata": {
  "kernelspec": {
   "display_name": "Python 3 (ipykernel)",
   "language": "python",
   "name": "python3"
  },
  "language_info": {
   "codemirror_mode": {
    "name": "ipython",
    "version": 3
   },
   "file_extension": ".py",
   "mimetype": "text/x-python",
   "name": "python",
   "nbconvert_exporter": "python",
   "pygments_lexer": "ipython3",
   "version": "3.9.7"
  }
 },
 "nbformat": 4,
 "nbformat_minor": 5
}
