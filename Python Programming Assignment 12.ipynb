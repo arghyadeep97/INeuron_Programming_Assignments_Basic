{
 "cells": [
  {
   "cell_type": "markdown",
   "id": "7de559c4",
   "metadata": {},
   "source": [
    "# Python Programming Assignment 12"
   ]
  },
  {
   "cell_type": "markdown",
   "id": "98a7618e",
   "metadata": {},
   "source": [
    "### 1. Write a Python program to Extract Unique values dictionary values?"
   ]
  },
  {
   "cell_type": "code",
   "execution_count": 2,
   "id": "6dee0d44",
   "metadata": {},
   "outputs": [
    {
     "name": "stdout",
     "output_type": "stream",
     "text": [
      "Unique Values are: {0, 1, 66, 3, 4, 6, 7, 42, 44, 45, 77, 47, 17, 21}\n"
     ]
    }
   ],
   "source": [
    "dict1 = {'a' : [4, 44, 17, 66], 'b' : [1, 21, 47, 45], 'c' : [0, 7, 4, 42], 'd' : [3, 6, 77,7]}\n",
    "un_val = set([ele for val in dict1.values() for ele in val])\n",
    "print(\"Unique Values are: {}\".format(un_val))"
   ]
  },
  {
   "cell_type": "markdown",
   "id": "6f68e99a",
   "metadata": {},
   "source": [
    "### 2. Write a Python program to find the sum of all items in a dictionary?"
   ]
  },
  {
   "cell_type": "code",
   "execution_count": 3,
   "id": "a7e47577",
   "metadata": {},
   "outputs": [
    {
     "name": "stdout",
     "output_type": "stream",
     "text": [
      "Sum of Dictionary Elements: 60\n"
     ]
    }
   ],
   "source": [
    "dict1 = {'a': 10, 'b':20, 'c':30}\n",
    "print(\"Sum of Dictionary Elements:\",sum(dict1.values()))"
   ]
  },
  {
   "cell_type": "markdown",
   "id": "10ab96cb",
   "metadata": {},
   "source": [
    "### 3. Write a Python program to Merging two Dictionaries?"
   ]
  },
  {
   "cell_type": "code",
   "execution_count": 5,
   "id": "f00b2b88",
   "metadata": {},
   "outputs": [
    {
     "name": "stdout",
     "output_type": "stream",
     "text": [
      "After Merging Two Dictionaries: {'a': 1, 'b': 2, 'c': 3, 'd': 4}\n"
     ]
    }
   ],
   "source": [
    "dict1 = {'a': 1, 'b': 2}\n",
    "dict2 = {'c': 3, 'd': 4}\n",
    "dict1.update(dict2)\n",
    "print(\"After Merging Two Dictionaries:\",dict1)"
   ]
  },
  {
   "cell_type": "markdown",
   "id": "97149d6c",
   "metadata": {},
   "source": [
    "### 4. Write a Python program to convert key-values list to flat dictionary?"
   ]
  },
  {
   "cell_type": "code",
   "execution_count": 14,
   "id": "863c01c6",
   "metadata": {},
   "outputs": [
    {
     "name": "stdout",
     "output_type": "stream",
     "text": [
      "Original Dictionary is: {'Month': [1, 2, 3], 'Name': ['Jan', 'Feb', 'March']}\n",
      "Flattened Dictionary is: {1: 'Jan', 2: 'Feb', 3: 'March'}\n"
     ]
    }
   ],
   "source": [
    "test_dict = {'Month' : [1, 2, 3],\n",
    "             'Name' : ['Jan', 'Feb', 'March']}  \n",
    "print(\"Original Dictionary is: \" + str(test_dict))\n",
    "flat_dict = dict(zip(test_dict['Month'], test_dict['Name']))\n",
    "print(\"Flattened Dictionary is:\",flat_dict)"
   ]
  },
  {
   "cell_type": "markdown",
   "id": "7fa79c88",
   "metadata": {},
   "source": [
    "### 5. Write a Python program to insertion at the beginning in OrderedDict?"
   ]
  },
  {
   "cell_type": "code",
   "execution_count": 15,
   "id": "84f95c68",
   "metadata": {},
   "outputs": [
    {
     "name": "stdout",
     "output_type": "stream",
     "text": [
      "Ordered Dictionary is:  OrderedDict([('Jan', '1'), ('Feb', '2'), ('Mar', '3')])\n"
     ]
    }
   ],
   "source": [
    "from collections import OrderedDict\n",
    "ordered_dict = OrderedDict([('Feb', '2'), ('Mar', '3')])\n",
    "ordered_dict.update({'Jan':'1'})\n",
    "ordered_dict.move_to_end('Jan', last = False)\n",
    "print (\"Ordered Dictionary is: \",ordered_dict)"
   ]
  },
  {
   "cell_type": "markdown",
   "id": "2a7d6d35",
   "metadata": {},
   "source": [
    "### 6. Write a Python program to check order of character in string using OrderedDict()?"
   ]
  },
  {
   "cell_type": "code",
   "execution_count": 22,
   "id": "fd615306",
   "metadata": {},
   "outputs": [
    {
     "name": "stdout",
     "output_type": "stream",
     "text": [
      "Enter String : Arghyadeep\n",
      "Enter Pattern : eep\n",
      "Pattern matched\n"
     ]
    }
   ],
   "source": [
    "from collections import OrderedDict\n",
    "def checkOrder(input, pattern):\n",
    "    dict = OrderedDict.fromkeys(input)\n",
    "    ptrlen = 0\n",
    "    for key,value in dict.items():\n",
    "        if (key == pattern[ptrlen]):\n",
    "            ptrlen = ptrlen + 1\n",
    "        if (ptrlen == (len(pattern))):\n",
    "            return 'true'\n",
    "    return 'false'\n",
    "\n",
    "string = input(\"Enter String : \")\n",
    "pattern = input(\"Enter Pattern : \")\n",
    "if checkOrder(string,pattern):\n",
    "    print(\"Pattern matched\")\n",
    "else:\n",
    "    print(\"Pattern not matched\")"
   ]
  },
  {
   "cell_type": "markdown",
   "id": "c77ec2c8",
   "metadata": {},
   "source": [
    "### 7. Write a Python program to sort Python Dictionaries by Key or Value?"
   ]
  },
  {
   "cell_type": "code",
   "execution_count": 19,
   "id": "24518d3f",
   "metadata": {},
   "outputs": [
    {
     "name": "stdout",
     "output_type": "stream",
     "text": [
      "Actual Dictionary: {4: 2, 7: 8, 6: 9, 9: 5}\n",
      "enter 0 to sort by key or 1 to sort by value : 1\n",
      "After Sorting: {4: 2, 9: 5, 7: 8, 6: 9}\n"
     ]
    }
   ],
   "source": [
    "dict1,sort_dict = {4:5 ,7:8 ,4:3 ,6:9 ,9:5 ,4:2 },{}\n",
    "print(\"Actual Dictionary:\",dict1)\n",
    "val = int(input(\"enter 0 to sort by key or 1 to sort by value : \"))\n",
    "if val == 0:\n",
    "    sort_dict = dict(sorted(dict1.items(),key = lambda x : x[0]))    \n",
    "else:\n",
    "    sort_dict = dict(sorted(dict1.items(),key = lambda x : x[1]))\n",
    "print(\"After Sorting:\",sort_dict)"
   ]
  }
 ],
 "metadata": {
  "kernelspec": {
   "display_name": "Python 3 (ipykernel)",
   "language": "python",
   "name": "python3"
  },
  "language_info": {
   "codemirror_mode": {
    "name": "ipython",
    "version": 3
   },
   "file_extension": ".py",
   "mimetype": "text/x-python",
   "name": "python",
   "nbconvert_exporter": "python",
   "pygments_lexer": "ipython3",
   "version": "3.9.7"
  }
 },
 "nbformat": 4,
 "nbformat_minor": 5
}
