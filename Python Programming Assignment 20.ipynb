{
 "cells": [
  {
   "cell_type": "markdown",
   "id": "fab1f422",
   "metadata": {},
   "source": [
    "# Python Programming Assignment 20"
   ]
  },
  {
   "cell_type": "markdown",
   "id": "be98e129",
   "metadata": {},
   "source": [
    "### Question 1\n",
    "#### Create a function that takes a list of strings and integers, and filters out the list so that it returns a list of integers only.\n",
    "### Examples\n",
    "#### filter_list([1, 2, 3, \"a\", \"b\", 4]) ➞ [1, 2, 3, 4]\n",
    "#### filter_list([\"A\", 0, \"Edabit\", 1729, \"Python\", \"1729\"]) ➞ [0, 1729]\n",
    "#### filter_list([\"Nothing\", \"here\"]) ➞ []"
   ]
  },
  {
   "cell_type": "code",
   "execution_count": 16,
   "id": "6b463220",
   "metadata": {},
   "outputs": [],
   "source": [
    "def filter_list(list1):\n",
    "    print(\"Actual List:\\n\",list1)\n",
    "    filtered = list()\n",
    "    for i in list1:\n",
    "        try:\n",
    "            filtered.append(int(i))\n",
    "        except ValueError:\n",
    "            continue\n",
    "    return list(set(filtered))"
   ]
  },
  {
   "cell_type": "code",
   "execution_count": 17,
   "id": "404126c0",
   "metadata": {},
   "outputs": [
    {
     "name": "stdout",
     "output_type": "stream",
     "text": [
      "Enter a List of Elements Separeted by Space:\n",
      "A 0 Edabit 1729 Python 1729\n",
      "Actual List:\n",
      " ['A', '0', 'Edabit', '1729', 'Python', '1729']\n",
      "Filtered Integer List:\n",
      " [0, 1729]\n"
     ]
    }
   ],
   "source": [
    "ip_list = input(\"Enter a List of Elements Separeted by Space:\\n\").split()\n",
    "print(\"Filtered Integer List:\\n\",filter_list(ip_list))"
   ]
  },
  {
   "cell_type": "markdown",
   "id": "82e6b5bc",
   "metadata": {},
   "source": [
    "### Question 2\n",
    "#### Given a list of numbers, create a function which returns the list but with each element's index in the list added to itself. This means you add 0 to the number at index 0, add 1 to the number at index 1, etc...\n",
    "### Examples\n",
    "#### add_indexes([0, 0, 0, 0, 0]) ➞ [0, 1, 2, 3, 4]\n",
    "#### add_indexes([1, 2, 3, 4, 5]) ➞ [1, 3, 5, 7, 9]\n",
    "#### add_indexes([5, 4, 3, 2, 1]) ➞ [5, 5, 5, 5, 5]"
   ]
  },
  {
   "cell_type": "code",
   "execution_count": 18,
   "id": "6911fe77",
   "metadata": {},
   "outputs": [],
   "source": [
    "def add_indexes(list1):\n",
    "    print(\"Actual List:\\n\",list1)\n",
    "    return list(map(lambda x: x[0] + x[1],enumerate(list1)))"
   ]
  },
  {
   "cell_type": "code",
   "execution_count": 22,
   "id": "90b2cfe6",
   "metadata": {},
   "outputs": [
    {
     "name": "stdout",
     "output_type": "stream",
     "text": [
      "Enter a Integer List Separeted by Space:\n",
      "5 4 3 2 1\n",
      "Actual List:\n",
      " [5, 4, 3, 2, 1]\n",
      "Added Index List:\n",
      " [5, 5, 5, 5, 5]\n"
     ]
    }
   ],
   "source": [
    "int_list = list(map(int,input(\"Enter a Integer List Separeted by Space:\\n\").split()))\n",
    "print(\"Added Index List:\\n\",add_indexes(int_list))"
   ]
  },
  {
   "cell_type": "markdown",
   "id": "7d690065",
   "metadata": {},
   "source": [
    "### Question 3\n",
    "#### Create a function that takes the height and radius of a cone as arguments and returns the volume of the cone rounded to the nearest hundredth. See the resources tab for the formula.\n",
    "### Examples\n",
    "#### cone_volume(3, 2) ➞ 12.57\n",
    "#### cone_volume(15, 6) ➞ 565.49\n",
    "#### cone_volume(18, 0) ➞ 0"
   ]
  },
  {
   "cell_type": "code",
   "execution_count": 27,
   "id": "d920b564",
   "metadata": {},
   "outputs": [],
   "source": [
    "#For this we need to import pi from math module\n",
    "from math import pi\n",
    "#Now volume function\n",
    "def cone_volume(h,r):\n",
    "    volume = (pi*(r**2)*h)/3\n",
    "    return \"{0:.2f}\".format(volume)"
   ]
  },
  {
   "cell_type": "code",
   "execution_count": 28,
   "id": "d2981558",
   "metadata": {},
   "outputs": [
    {
     "name": "stdout",
     "output_type": "stream",
     "text": [
      "Enter Height and Radius of the Cone Separeted by Space:\n",
      "15 6\n",
      "565.49\n"
     ]
    }
   ],
   "source": [
    "height,radius = tuple(map(float,input(\"Enter Height and Radius of the Cone Separeted by Space:\\n\").split()))\n",
    "print(cone_volume(height,radius))"
   ]
  },
  {
   "cell_type": "markdown",
   "id": "b4ac5d89",
   "metadata": {},
   "source": [
    "### Question 4\n",
    "#### This Triangular Number Sequence is generated from a pattern of dots that form a triangle. The first 5 numbers of the sequence, or dots, are: \n",
    "#### 1, 3, 6, 10, 15\n",
    "#### This means that the first triangle has just one dot, the second one has three dots, the third one has 6 dots and so on. Write a function that gives the number of dots with its corresponding triangle number of the sequence.\n",
    "### Examples\n",
    "#### triangle(1) ➞ 1\n",
    "#### triangle(6) ➞ 21\n",
    "#### triangle(215) ➞ 23220"
   ]
  },
  {
   "cell_type": "code",
   "execution_count": 29,
   "id": "d58e8545",
   "metadata": {},
   "outputs": [],
   "source": [
    "def triangle(dots):\n",
    "    return sum(list(range(1,dots+1)))"
   ]
  },
  {
   "cell_type": "code",
   "execution_count": 32,
   "id": "f71d9c5b",
   "metadata": {},
   "outputs": [
    {
     "name": "stdout",
     "output_type": "stream",
     "text": [
      "Enter The Number of Dots: 215\n",
      "Tota Dots in The Triangle: 23220\n"
     ]
    }
   ],
   "source": [
    "dot = int(input(\"Enter The Number of Dots: \"))\n",
    "print(\"Tota Dots in The Triangle:\",triangle(dot))"
   ]
  },
  {
   "cell_type": "markdown",
   "id": "1d53abf4",
   "metadata": {},
   "source": [
    "### Question5\n",
    "#### Create a function that takes a list of numbers between 1 and 10 (excluding one number) and returns the missing number.\n",
    "### Examples\n",
    "#### missing_num([1, 2, 3, 4, 6, 7, 8, 9, 10]) ➞ 5\n",
    "#### missing_num([7, 2, 3, 6, 5, 9, 1, 4, 8]) ➞ 10\n",
    "#### missing_num([10, 5, 1, 2, 4, 6, 8, 3, 9]) ➞ 7"
   ]
  },
  {
   "cell_type": "code",
   "execution_count": 33,
   "id": "455ffbfe",
   "metadata": {},
   "outputs": [],
   "source": [
    "def missing_num(list1):\n",
    "    full_list = set(range(1,11))\n",
    "    missed = full_list.difference(set(list1))\n",
    "    return list(missed)[0]"
   ]
  },
  {
   "cell_type": "code",
   "execution_count": 35,
   "id": "1689461b",
   "metadata": {},
   "outputs": [
    {
     "name": "stdout",
     "output_type": "stream",
     "text": [
      "Enter The Integer List Separeted by Space:\n",
      "10 5 1 2 4 6 8 3 9\n",
      "Missing Element: 7\n"
     ]
    }
   ],
   "source": [
    "num_list = list(map(int,input(\"Enter The Integer List Separeted by Space:\\n\").split()))\n",
    "print(\"Missing Element:\",missing_num(num_list))"
   ]
  }
 ],
 "metadata": {
  "kernelspec": {
   "display_name": "Python 3 (ipykernel)",
   "language": "python",
   "name": "python3"
  },
  "language_info": {
   "codemirror_mode": {
    "name": "ipython",
    "version": 3
   },
   "file_extension": ".py",
   "mimetype": "text/x-python",
   "name": "python",
   "nbconvert_exporter": "python",
   "pygments_lexer": "ipython3",
   "version": "3.9.7"
  }
 },
 "nbformat": 4,
 "nbformat_minor": 5
}
